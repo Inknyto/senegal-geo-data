{
 "cells": [
  {
   "cell_type": "code",
   "execution_count": 1,
   "id": "0ccf754a",
   "metadata": {},
   "outputs": [],
   "source": [
    "import pandas as pd\n",
    "data = pd.read_csv('decoupage-administatif.csv')"
   ]
  },
  {
   "cell_type": "code",
   "execution_count": 113,
   "id": "58fbd591",
   "metadata": {},
   "outputs": [
    {
     "name": "stdout",
     "output_type": "stream",
     "text": [
      "<class 'pandas.core.frame.DataFrame'>\n",
      "RangeIndex: 385 entries, 0 to 384\n",
      "Data columns (total 7 columns):\n",
      " #   Column            Non-Null Count  Dtype \n",
      "---  ------            --------------  ----- \n",
      " 0   CODE_REGION       385 non-null    object\n",
      " 1   REGION            385 non-null    object\n",
      " 2   DEPARTEMENTS      385 non-null    object\n",
      " 3   COMMUNES          380 non-null    object\n",
      " 4   ARRONDISSEMENTS   379 non-null    object\n",
      " 5   C0MMUNES_d_ARRDT  74 non-null     object\n",
      " 6   COMM_RURALES      306 non-null    object\n",
      "dtypes: object(7)\n",
      "memory usage: 21.2+ KB\n"
     ]
    }
   ],
   "source": [
    "data.info()"
   ]
  },
  {
   "cell_type": "code",
   "execution_count": 36,
   "id": "e8295e1d",
   "metadata": {},
   "outputs": [
    {
     "name": "stdout",
     "output_type": "stream",
     "text": [
      "{'DAKAR': 'SN-DK', 'DIOURBEL': 'SN-DB', 'FATICK': 'SN-FK', 'KAFFRINE': 'SN-KA', 'KAOLACK': 'SN-KL', 'KEDOUGOU': 'SN-KE', 'KOLDA': 'SN-KD', 'LOUGA': 'SN-LG', 'MATAM': 'SN-MT', 'SAINT LOUIS': 'SN-SL', 'SEDHIOU': 'SN-SE', 'TAMBACOUNDA': 'SN-TC', 'THIES': 'SN-TH', 'ZIGUINCHOR': 'SN-ZG'}\n"
     ]
    }
   ],
   "source": [
    "\n",
    "regions = dict(zip(data['REGION'].tolist(), data['CODE_REGION'].tolist()))\n"
   ]
  },
  {
   "cell_type": "code",
   "execution_count": 40,
   "id": "26de7d09",
   "metadata": {},
   "outputs": [],
   "source": [
    "region = {k:{'CODE_REGION' : v} for k,v in regions.items()}"
   ]
  },
  {
   "cell_type": "code",
   "execution_count": 41,
   "id": "09f170d3",
   "metadata": {},
   "outputs": [
    {
     "data": {
      "text/plain": [
       "{'DAKAR': {'CODE_REGION': 'SN-DK'},\n",
       " 'DIOURBEL': {'CODE_REGION': 'SN-DB'},\n",
       " 'FATICK': {'CODE_REGION': 'SN-FK'},\n",
       " 'KAFFRINE': {'CODE_REGION': 'SN-KA'},\n",
       " 'KAOLACK': {'CODE_REGION': 'SN-KL'},\n",
       " 'KEDOUGOU': {'CODE_REGION': 'SN-KE'},\n",
       " 'KOLDA': {'CODE_REGION': 'SN-KD'},\n",
       " 'LOUGA': {'CODE_REGION': 'SN-LG'},\n",
       " 'MATAM': {'CODE_REGION': 'SN-MT'},\n",
       " 'SAINT LOUIS': {'CODE_REGION': 'SN-SL'},\n",
       " 'SEDHIOU': {'CODE_REGION': 'SN-SE'},\n",
       " 'TAMBACOUNDA': {'CODE_REGION': 'SN-TC'},\n",
       " 'THIES': {'CODE_REGION': 'SN-TH'},\n",
       " 'ZIGUINCHOR': {'CODE_REGION': 'SN-ZG'}}"
      ]
     },
     "execution_count": 41,
     "metadata": {},
     "output_type": "execute_result"
    }
   ],
   "source": [
    "region"
   ]
  },
  {
   "cell_type": "code",
   "execution_count": 26,
   "id": "2f2086d8",
   "metadata": {},
   "outputs": [],
   "source": [
    "data = data.rename(columns = {'CODE REGION' : 'CODE_REGION', 'C0MMUNES d’ARRDT' : 'C0MMUNES_d_ARRDT', 'COMM. RURALES' : 'COMM_RURALES'})"
   ]
  },
  {
   "cell_type": "code",
   "execution_count": 75,
   "id": "1cc0fc47",
   "metadata": {},
   "outputs": [
    {
     "data": {
      "text/plain": [
       "0                             Gorée\n",
       "1                   Dakar - Plateau\n",
       "2      Gueule Tapée – Fass-Colobane\n",
       "3           Fann - Point E - Amitié\n",
       "4                       Grand Dakar\n",
       "                   ...             \n",
       "380                             NaN\n",
       "381                             NaN\n",
       "382                             NaN\n",
       "383                             NaN\n",
       "384                             NaN\n",
       "Name: C0MMUNES_d_ARRDT, Length: 385, dtype: object"
      ]
     },
     "execution_count": 75,
     "metadata": {},
     "output_type": "execute_result"
    }
   ],
   "source": [
    "data.C0MMUNES_d_ARRDT"
   ]
  },
  {
   "cell_type": "code",
   "execution_count": 70,
   "id": "6ea54151",
   "metadata": {},
   "outputs": [],
   "source": [
    "#import pandas as pd\n",
    "\n",
    "# Assuming you have your DataFrame df\n",
    "# Replace df with your actual DataFrame\n",
    "\n",
    "# Initialize an empty dictionary to store the nested structure\n",
    "#nested_dict = {}\n",
    "\n",
    "# Iterate through the DataFrame rows\n",
    "for index, row in data.iterrows():\n",
    "    # Extract information from the DataFrame\n",
    "    #code_region = row['CODE REGION']\n",
    "    #region = row['REGION']\n",
    "    if row.REGION in region:\n",
    "        region[row.REGION]['DEPARTEMENTS'][row.DEPARTEMENTS] = {'COMMUNES' : {}}\n",
    "    \n",
    "    # Create the nested dictionary\n",
    "   #region_dict = {\n",
    "   #    'nom': region,\n",
    "   #    'departements': departements  # You can modify this if needed\n",
    "   #}\n",
    "   #\n",
    "   ## Add the nested dictionary to the main dictionary\n",
    "   #nested_dict[code_region] = region_dict\n",
    "\n",
    "# Print the resulting nested dictionary\n",
    "#print(nested_dict)\n"
   ]
  },
  {
   "cell_type": "code",
   "execution_count": 63,
   "id": "1e5e29e1",
   "metadata": {},
   "outputs": [],
   "source": [
    "for key, value in region.items():\n",
    "    value['DEPARTEMENTS'] = {}    "
   ]
  },
  {
   "cell_type": "code",
   "execution_count": 104,
   "id": "66dba791",
   "metadata": {},
   "outputs": [
    {
     "name": "stdout",
     "output_type": "stream",
     "text": [
      "{'DAKAR': {'CODE_REGION': 'SN-DK',\n",
      "           'DEPARTEMENTS': {'Dakar': {'COMMUNES': {'Dakar': {'ARRONDISSEMENTS': {}}}},\n",
      "                            'GUEDIAWAYE': {'COMMUNES': {'Guédiawaye': {'ARRONDISSEMENTS': {}},\n",
      "                                                        'Pikine': {'ARRONDISSEMENTS': {}}}},\n",
      "                            'RUFISQUE': {'COMMUNES': {'Rufisque': {'ARRONDISSEMENTS': {}}}}}},\n",
      " 'DIOURBEL': {'CODE_REGION': 'SN-DB',\n",
      "              'DEPARTEMENTS': {'BAMBEY': {'COMMUNES': {'Bambey': {'ARRONDISSEMENTS': {}}}},\n",
      "                               'DIOURBEL': {'COMMUNES': {'Diourbel': {'ARRONDISSEMENTS': {}}}},\n",
      "                               'MBACKE': {'COMMUNES': {'Mbacké': {'ARRONDISSEMENTS': {}}}}}},\n",
      " 'FATICK': {'CODE_REGION': 'SN-FK',\n",
      "            'DEPARTEMENTS': {'FATICK Dioffior': {'COMMUNES': {'Fatick': {'ARRONDISSEMENTS': {}}}},\n",
      "                             'FOUNDIOUGNE': {'COMMUNES': {'Foundiougne Passy': {'ARRONDISSEMENTS': {}},\n",
      "                                                          'Sokone Soum Karang Post': {'ARRONDISSEMENTS': {}}}},\n",
      "                             'GOSSAS': {'COMMUNES': {'Gossas': {'ARRONDISSEMENTS': {}}}}}},\n",
      " 'KAFFRINE': {'CODE_REGION': 'SN-KA',\n",
      "              'DEPARTEMENTS': {'KAFFRINE': {'COMMUNES': {'Kaffrine Nganda': {'ARRONDISSEMENTS': {}}}},\n",
      "                               'KEUR MBOUCKI': {'COMMUNES': {nan: {'ARRONDISSEMENTS': {}}}},\n",
      "                               'KOUNGHEUL': {'COMMUNES': {'Koungheul': {'ARRONDISSEMENTS': {}}}},\n",
      "                               'MALEM HODDAR': {'COMMUNES': {'Malem Hoddar': {'ARRONDISSEMENTS': {}}}}}},\n",
      " 'KAOLACK': {'CODE_REGION': 'SN-KL',\n",
      "             'DEPARTEMENTS': {'KAOLACK': {'COMMUNES': {'Kaolack Kahone Ndoffane Gandiaye': {'ARRONDISSEMENTS': {}}}},\n",
      "                              'MBADAKHOUNE': {'COMMUNES': {'Guinguinéo': {'ARRONDISSEMENTS': {}}}},\n",
      "                              'NIORO': {'COMMUNES': {'Nioro Keur Madiabel': {'ARRONDISSEMENTS': {}}}}}},\n",
      " 'KEDOUGOU': {'CODE_REGION': 'SN-KE',\n",
      "              'DEPARTEMENTS': {'KEDOUGOU': {'COMMUNES': {'Kédougou': {'ARRONDISSEMENTS': {}}}},\n",
      "                               'SALEMATA': {'COMMUNES': {'Salémata': {'ARRONDISSEMENTS': {}}}},\n",
      "                               'SARAYA': {'COMMUNES': {'Saraya': {'ARRONDISSEMENTS': {}}}}}},\n",
      " 'KOLDA': {'CODE_REGION': 'SN-KD',\n",
      "           'DEPARTEMENTS': {'KOLDA': {'COMMUNES': {'Kolda Dabo Salikégné Saré YobaDiéga ': {'ARRONDISSEMENTS': {}}}},\n",
      "                            'MEDINA YORO FOULAH': {'COMMUNES': {'Médina Yoro Foulah Pata': {'ARRONDISSEMENTS': {}}}},\n",
      "                            'VELINGARA': {'COMMUNES': {'Vélingara Kounkané Diaobé-Kabendou': {'ARRONDISSEMENTS': {}}}}}},\n",
      " 'LOUGA': {'CODE_REGION': 'SN-LG',\n",
      "           'DEPARTEMENTS': {'KEBEMER\\xa0': {'COMMUNES': {'BARKEDJI': {'ARRONDISSEMENTS': {}},\n",
      "                                                         'Kébémer Guéoul': {'ARRONDISSEMENTS': {}}}},\n",
      "                            'LINGUERE\\xa0': {'COMMUNES': {'Linguère Dahra': {'ARRONDISSEMENTS': {}}}},\n",
      "                            'LOUGA': {'COMMUNES': {'Louga': {'ARRONDISSEMENTS': {}}}}}},\n",
      " 'MATAM': {'CODE_REGION': 'SN-MT',\n",
      "           'DEPARTEMENTS': {'KANEL': {'COMMUNES': {'Kanel Ouaoundé Semmé Dembancané': {'ARRONDISSEMENTS': {}}}},\n",
      "                            'MATAM': {'COMMUNES': {'Hamady Hounaré Sinthiou Bamambé-Banadji': {'ARRONDISSEMENTS': {}},\n",
      "                                                   'Matam Ourossogui Thilogne': {'ARRONDISSEMENTS': {}}}},\n",
      "                            'RANEROU FERLO': {'COMMUNES': {'Matam Ourossogui Thilogne': {'ARRONDISSEMENTS': {}},\n",
      "                                                           'Ranérou': {'ARRONDISSEMENTS': {}}}}}},\n",
      " 'SAINT LOUIS': {'CODE_REGION': 'SN-SL',\n",
      "                 'DEPARTEMENTS': {'DAGANA ': {'COMMUNES': {'Dagana Richard Toll Rosso Diama Gaé': {'ARRONDISSEMENTS': {}},\n",
      "                                                           'Ross-Béthio ': {'ARRONDISSEMENTS': {}}}},\n",
      "                                  'PODOR ': {'COMMUNES': {'Guédé Chantier Démette Galoya Toucouleur': {'ARRONDISSEMENTS': {}},\n",
      "                                                          'Podor Golléré Ndioum Niandane Mbouma': {'ARRONDISSEMENTS': {}}}},\n",
      "                                  'SAINT LOUIS ': {'COMMUNES': {'Saint Louis Mpal': {'ARRONDISSEMENTS': {}}}}}},\n",
      " 'SEDHIOU': {'CODE_REGION': 'SN-SE',\n",
      "             'DEPARTEMENTS': {'BOUNKILING ': {'COMMUNES': {'Bounkiling Madina Wandifa': {'ARRONDISSEMENTS': {}}}},\n",
      "                              'GOUDOMP ': {'COMMUNES': {'Goudomp Samine Tanaff Diattacounda': {'ARRONDISSEMENTS': {}}}},\n",
      "                              'SEDHIOU': {'COMMUNES': {'Sédhiou Diannah Malary Marsassoum': {'ARRONDISSEMENTS': {}}}}}},\n",
      " 'TAMBACOUNDA': {'CODE_REGION': 'SN-TC',\n",
      "                 'DEPARTEMENTS': {'BAKEL\\xa0': {'COMMUNES': {'Bakel Kidira Diawara': {'ARRONDISSEMENTS': {}}}},\n",
      "                                  'GOUDIRY': {'COMMUNES': {'Goudiry Kothiary': {'ARRONDISSEMENTS': {}}}},\n",
      "                                  'KOUPENTOUM': {'COMMUNES': {'Koumpentoum': {'ARRONDISSEMENTS': {}}}},\n",
      "                                  'TAMBA': {'COMMUNES': {'Tambacounda': {'ARRONDISSEMENTS': {}}}}}},\n",
      " 'THIES': {'CODE_REGION': 'SN-TH',\n",
      "           'DEPARTEMENTS': {'MBOUR': {'COMMUNES': {'Joal – Fadhiouth Diass Nguekhokh Thiadiaye Saly Portudal Ngaparou Somone Popenguine': {'ARRONDISSEMENTS': {}}}},\n",
      "                            'THIES': {'COMMUNES': {'Thies Kayar Khombole Pout': {'ARRONDISSEMENTS': {}}}},\n",
      "                            'TIVAOUANE': {'COMMUNES': {'Tivaouane Mboro Mékhé': {'ARRONDISSEMENTS': {}}}}}},\n",
      " 'ZIGUINCHOR': {'CODE_REGION': 'SN-ZG',\n",
      "                'DEPARTEMENTS': {'BIGNONA': {'COMMUNES': {'Bignona Thionck-Essyl Diouloulou': {'ARRONDISSEMENTS': {}}}},\n",
      "                                 'OUSSOUYE': {'COMMUNES': {'Oussouye': {'ARRONDISSEMENTS': {}}}},\n",
      "                                 'ZIGUINCHOR': {'COMMUNES': {'Ziguinchor': {'ARRONDISSEMENTS': {}}}}}}}\n"
     ]
    }
   ],
   "source": [
    "from pprint import pprint as pp\n",
    "pp(region)"
   ]
  },
  {
   "cell_type": "code",
   "execution_count": 73,
   "id": "bf7f9998",
   "metadata": {},
   "outputs": [],
   "source": [
    "for index, row in data.iterrows():\n",
    "    if row.REGION in region and row.DEPARTEMENTS in region[row.REGION]['DEPARTEMENTS']:\n",
    "        region[row.REGION]['DEPARTEMENTS'][row.DEPARTEMENTS]['COMMUNES'][row.COMMUNES] = {'ARRONDISSEMENTS' : {}}"
   ]
  },
  {
   "cell_type": "code",
   "execution_count": 112,
   "id": "5d1f6bba",
   "metadata": {},
   "outputs": [
    {
     "data": {
      "text/plain": [
       "True"
      ]
     },
     "execution_count": 112,
     "metadata": {},
     "output_type": "execute_result"
    }
   ],
   "source": [
    "str(region) == str(nested_data)"
   ]
  },
  {
   "cell_type": "code",
   "execution_count": 114,
   "id": "dc2f6b27",
   "metadata": {},
   "outputs": [
    {
     "name": "stdout",
     "output_type": "stream",
     "text": [
      "{'DAKAR': {'CODE_REGION': 'SN-DK', 'DEPARTEMENTS': {'Dakar': {'COMMUNES': {'Dakar': {'ARRONDISSEMENTS': {'DAKAR-PLATEAU': {'C0MMUNES_d_ARRDT': {'Gorée': {'COMM_RURALES': {nan: {}}}, 'Dakar - Plateau': {'COMM_RURALES': {nan: {}}}, 'Gueule Tapée – Fass-Colobane': {'COMM_RURALES': {nan: {}}}, 'Fann - Point E - Amitié': {'COMM_RURALES': {nan: {}}}}}, 'GRAND DAKAR': {'C0MMUNES_d_ARRDT': {'Grand Dakar': {'COMM_RURALES': {nan: {}}}, 'Biscuiterie': {'COMM_RURALES': {nan: {}}}, 'Dieuppeul – Derklé': {'COMM_RURALES': {nan: {}}}, 'Hann - Bel Air': {'COMM_RURALES': {nan: {}}}, 'Sicap - Liberté': {'COMM_RURALES': {nan: {}}}, 'H.L.M': {'COMM_RURALES': {nan: {}}}}}, 'ALMADIES': {'C0MMUNES_d_ARRDT': {'Mermoz – Sacré Cœur': {'COMM_RURALES': {nan: {}}}, 'Ouakam': {'COMM_RURALES': {nan: {}}}, 'Ngor': {'COMM_RURALES': {nan: {}}}, 'Yoff': {'COMM_RURALES': {nan: {}}}}}, 'PARCELLES ASSAINIES': {'C0MMUNES_d_ARRDT': {'Grand Yoff': {'COMM_RURALES': {nan: {}}}, 'Patte D’Oie': {'COMM_RURALES': {nan: {}}}, 'Parcelles Assainies': {'COMM_RURALES': {nan: {}}}, 'Cambérène': {'COMM_RURALES': {nan: {}}}}}}}}}, 'GUEDIAWAYE': {'COMMUNES': {'Guédiawaye': {'ARRONDISSEMENTS': {'GUEDIAWAYE': {'C0MMUNES_d_ARRDT': {'Golf Sud': {'COMM_RURALES': {nan: {}}}, 'Sam Notaire': {'COMM_RURALES': {nan: {}}}, 'Ndiarème Limamoulaye': {'COMM_RURALES': {nan: {}}}, 'Médina Gounass': {'COMM_RURALES': {nan: {}}}, 'Wakhinane Nimzath': {'COMM_RURALES': {nan: {}}}}}, 'THIAROYE': {'C0MMUNES_d_ARRDT': {'Thiaroye Gare': {'COMM_RURALES': {nan: {}}}, 'Mbao': {'COMM_RURALES': {nan: {}}}, 'Thiaroye sur Mer': {'COMM_RURALES': {nan: {}}}, 'Tivaouane – Diack Sao': {'COMM_RURALES': {nan: {}}}, 'Diamagueune Sicap Mbao': {'COMM_RURALES': {nan: {}}}}}}}, 'Pikine': {'ARRONDISSEMENTS': {'NIAYES': {'C0MMUNES_d_ARRDT': {'Keur Massar': {'COMM_RURALES': {nan: {}}}, 'Malika': {'COMM_RURALES': {nan: {}}}, 'Yeumbeul Nord': {'COMM_RURALES': {nan: {}}}, 'Yeumbeul Sud': {'COMM_RURALES': {nan: {}}}}}, 'PIKINE\\xa0DAGOUDAN': {'C0MMUNES_d_ARRDT': {'Pikine Ouest': {'COMM_RURALES': {nan: {}}}, 'Pikine Est': {'COMM_RURALES': {nan: {}}}, 'Pikine Nord': {'COMM_RURALES': {nan: {}}}, 'Dalifort': {'COMM_RURALES': {nan: {}}}, 'Djidah Thiaroye Kao': {'COMM_RURALES': {nan: {}}}, 'Guinaw Rail Nord': {'COMM_RURALES': {nan: {}}}, 'Guinaw Rail Sud': {'COMM_RURALES': {nan: {}}}}}}}}}, 'RUFISQUE': {'COMMUNES': {'Rufisque': {'ARRONDISSEMENTS': {'RUFISQUE - EST': {'C0MMUNES_d_ARRDT': {'Rufisque Est': {'COMM_RURALES': {nan: {}}}, 'Bargny Rufisque Nord': {'COMM_RURALES': {nan: {}}}, 'Diamniadio Rufisque Ouest': {'COMM_RURALES': {nan: {}}}, 'Sébikotane': {'COMM_RURALES': {nan: {}}}}}, 'SANGALKAM': {'C0MMUNES_d_ARRDT': {nan: {'COMM_RURALES': {'Sangalkam Yenne': {}}}}}}}}}}}, 'DIOURBEL': {'CODE_REGION': 'SN-DB', 'DEPARTEMENTS': {'BAMBEY': {'COMMUNES': {'Bambey': {'ARRONDISSEMENTS': {'BABA GARAGE': {'C0MMUNES_d_ARRDT': {'Dinguiraye': {'COMM_RURALES': {nan: {}}}, 'Baba Garage': {'COMM_RURALES': {nan: {}}}, 'Keur Samba Kane': {'COMM_RURALES': {nan: {}}}}}, 'NGOYE Ngoye': {'C0MMUNES_d_ARRDT': {'Thiakhar': {'COMM_RURALES': {nan: {}}}, 'Ndondol': {'COMM_RURALES': {nan: {}}}, 'Ndangalma': {'COMM_RURALES': {nan: {}}}}}, 'LAMBAYE': {'C0MMUNES_d_ARRDT': {'Lambaye': {'COMM_RURALES': {nan: {}}}, 'Réfane': {'COMM_RURALES': {nan: {}}}, 'Gawane': {'COMM_RURALES': {nan: {}}}, 'Ngogom': {'COMM_RURALES': {nan: {}}}}}}}}}, 'DIOURBEL': {'COMMUNES': {'Diourbel': {'ARRONDISSEMENTS': {'NDOULO': {'C0MMUNES_d_ARRDT': {'Ndoulo': {'COMM_RURALES': {nan: {}}}, 'Ngohe': {'COMM_RURALES': {nan: {}}}, 'Pattar': {'COMM_RURALES': {nan: {}}}, 'Tocky Gare': {'COMM_RURALES': {nan: {}}}, 'Touré Mbondé': {'COMM_RURALES': {nan: {}}}}}, 'NDINDY': {'C0MMUNES_d_ARRDT': {'Ndankh Séne': {'COMM_RURALES': {nan: {}}}, 'Gade Escale': {'COMM_RURALES': {nan: {}}}, 'Keur Ngalgou': {'COMM_RURALES': {nan: {}}}, 'Ndindy': {'COMM_RURALES': {nan: {}}}, 'Taïba Moutoupha': {'COMM_RURALES': {nan: {}}}}}}}}}, 'MBACKE': {'COMMUNES': {'Mbacké': {'ARRONDISSEMENTS': {'NDAME': {'C0MMUNES_d_ARRDT': {'Touba Mosquée': {'COMM_RURALES': {nan: {}}}, 'Dalla Ngabou': {'COMM_RURALES': {nan: {}}}, 'Missirah': {'COMM_RURALES': {nan: {}}}, 'Nghaye': {'COMM_RURALES': {nan: {}}}, 'Touba Fall': {'COMM_RURALES': {nan: {}}}}}, 'Kael': {'C0MMUNES_d_ARRDT': {'Madina': {'COMM_RURALES': {nan: {}}}, 'KAEL Touba Mboul': {'COMM_RURALES': {nan: {}}}, 'Dendèye Gouy Gui': {'COMM_RURALES': {nan: {}}}, 'Ndioumane Taïba Thièkène': {'COMM_RURALES': {nan: {}}}}}, 'TAIF': {'C0MMUNES_d_ARRDT': {'Taïf': {'COMM_RURALES': {nan: {}}}, 'Sadio': {'COMM_RURALES': {nan: {}}}}}}}}}}}, 'FATICK': {'CODE_REGION': 'SN-FK', 'DEPARTEMENTS': {'FATICK Dioffior': {'COMMUNES': {'Fatick': {'ARRONDISSEMENTS': {'DIAKHAO': {'C0MMUNES_d_ARRDT': {nan: {'COMM_RURALES': {'Diakhao': {}, 'Diaoulé': {}, 'Mbéllacadiao': {}, 'Ndiop': {}}}}}, 'FIMELA': {'C0MMUNES_d_ARRDT': {nan: {'COMM_RURALES': {'Djilasse': {}, 'Fimela': {}, 'Loul Sessène': {}, 'Palmarin Facao': {}}}}}, 'NIAKHAR': {'C0MMUNES_d_ARRDT': {nan: {'COMM_RURALES': {'Niakhar': {}, 'Ngayokhème': {}, 'Patar': {}}}}}, 'TATTAGUINE': {'C0MMUNES_d_ARRDT': {nan: {'COMM_RURALES': {'Diarrère': {}, 'Diouroup': {}, 'Tattaguine': {}}}}}, 'TOUBACOUTA': {'C0MMUNES_d_ARRDT': {nan: {'COMM_RURALES': {'Keur Saloum Diané': {}, 'Keur Samba Guèye': {}, 'Tobacouta': {}, 'Nioro Alassane Talla': {}}}}}}}}}, 'FOUNDIOUGNE': {'COMMUNES': {'Foundiougne Passy': {'ARRONDISSEMENTS': {nan: {'C0MMUNES_d_ARRDT': {nan: {'COMM_RURALES': {nan: {}}}}}}}, 'Sokone Soum Karang Post': {'ARRONDISSEMENTS': {'DJILOR': {'C0MMUNES_d_ARRDT': {nan: {'COMM_RURALES': {'Diossong': {}, 'Djilor': {}}}}}, 'NIODIOR': {'C0MMUNES_d_ARRDT': {nan: {'COMM_RURALES': {'Bassoul': {}, 'Dionewar': {}, 'Djirnda': {}}}}}, 'COLOBANE': {'C0MMUNES_d_ARRDT': {nan: {'COMM_RURALES': {'Colobane': {}, 'Mbar': {}}}}}}}}}, 'GOSSAS': {'COMMUNES': {'Gossas': {'ARRONDISSEMENTS': {'OUADIOUR': {'C0MMUNES_d_ARRDT': {nan: {'COMM_RURALES': {'Ndiene Lagan': {}, 'Ouadiour': {}, 'Patar Lia': {}}}}}}}}}}}, 'KAFFRINE': {'CODE_REGION': 'SN-KA', 'DEPARTEMENTS': {'KEUR MBOUCKI': {'COMMUNES': {nan: {'ARRONDISSEMENTS': {'BIRKELANE': {'C0MMUNES_d_ARRDT': {nan: {'COMM_RURALES': {'Keur Mboucki': {}, 'Birkelane': {}}}}}, 'MABO': {'C0MMUNES_d_ARRDT': {nan: {'COMM_RURALES': {'Mabo': {}, 'Ndiognick': {}, 'Touba Mbella': {}}}}}}}}}, 'KAFFRINE': {'COMMUNES': {'Kaffrine Nganda': {'ARRONDISSEMENTS': {'KATAKEL': {'C0MMUNES_d_ARRDT': {nan: {'COMM_RURALES': {'Diamagadio': {}, 'Diokoul Belbouck': {}, 'Kathiotte': {}, 'Médinatoul Salam 2': {}}}}}, 'GNIBY': {'C0MMUNES_d_ARRDT': {nan: {'COMM_RURALES': {'Gniby': {}, 'Boulel': {}, 'Kahi': {}}}}}}}}}, 'KOUNGHEUL': {'COMMUNES': {'Koungheul': {'ARRONDISSEMENTS': {'MISSIRAH WADENE': {'C0MMUNES_d_ARRDT': {nan: {'COMM_RURALES': {'Missirah Wadène': {}, 'Maka Yop': {}, 'Ngainthe Pathé': {}}}}}, 'IDA MOURIDE': {'C0MMUNES_d_ARRDT': {nan: {'COMM_RURALES': {'Fass Thièkène': {}, 'Saly Escale': {}, 'Ida Mouride': {}}}}}, 'LOUR ESCALE': {'C0MMUNES_d_ARRDT': {nan: {'COMM_RURALES': {'Ribot Escale': {}, 'Lour Escale': {}}}}}}}}}, 'MALEM HODDAR': {'COMMUNES': {'Malem Hoddar': {'ARRONDISSEMENTS': {'DAROU MINAME 2': {'C0MMUNES_d_ARRDT': {nan: {'COMM_RURALES': {'Darou Miname 2': {}, 'Khelcom': {}, 'Ndioum Ngainth': {}}}}}, 'SAGNA': {'C0MMUNES_d_ARRDT': {nan: {'COMM_RURALES': {'Sagna': {}, 'Dianké Souf': {}}}}}}}}}}}, 'KAOLACK': {'CODE_REGION': 'SN-KL', 'DEPARTEMENTS': {'MBADAKHOUNE': {'COMMUNES': {'Guinguinéo': {'ARRONDISSEMENTS': {'GUINGUINEO': {'C0MMUNES_d_ARRDT': {nan: {'COMM_RURALES': {'Khelcom - Birane\\xa0': {}, 'Mbadakhoune\\xa0': {}, 'Ndiago\\xa0': {}, 'Ngathie Naoudé': {}}}}}, 'NGUELOU': {'C0MMUNES_d_ARRDT': {nan: {'COMM_RURALES': {'Gagnick\\xa0': {}, 'Mboss\\xa0': {}, 'Ourour': {}}}}}}}}}, 'KAOLACK': {'COMMUNES': {'Kaolack Kahone Ndoffane Gandiaye': {'ARRONDISSEMENTS': {'KOUMBAL': {'C0MMUNES_d_ARRDT': {nan: {'COMM_RURALES': {'Keur Baka': {}, 'Latmingué': {}, 'Thiaré': {}}}}}, 'NDIEDIENG': {'C0MMUNES_d_ARRDT': {nan: {'COMM_RURALES': {'Keur Socé': {}, 'Ndiaffate': {}, 'Ndiedieng': {}}}}}, 'SIBASSOR': {'C0MMUNES_d_ARRDT': {nan: {'COMM_RURALES': {'Dya': {}, 'Ndiébel': {}, 'Thiomby': {}}}}}}}}}, 'NIORO': {'COMMUNES': {'Nioro Keur Madiabel': {'ARRONDISSEMENTS': {'MEDINA SABAKH': {'C0MMUNES_d_ARRDT': {nan: {'COMM_RURALES': {'Kayemor': {}, 'Médina Sabakh': {}, 'Ngayene': {}}}}}, 'PAOS KOTO': {'C0MMUNES_d_ARRDT': {nan: {'COMM_RURALES': {'Gainthe Kaye': {}, 'Paos Koto': {}, 'Porokhane': {}, 'Taïba Niassène': {}}}}}, 'WACK NGOUNA': {'C0MMUNES_d_ARRDT': {nan: {'COMM_RURALES': {'Keur Maba Diakhou': {}, 'Keur Madongo': {}, 'Ndramé Escale': {}, 'Wack Ngouna': {}}}}}}}}}}}, 'KEDOUGOU': {'CODE_REGION': 'SN-KE', 'DEPARTEMENTS': {'KEDOUGOU': {'COMMUNES': {'Kédougou': {'ARRONDISSEMENTS': {'BANDAFASSI': {'C0MMUNES_d_ARRDT': {nan: {'COMM_RURALES': {'Tomboroncoto': {}, 'Dindefelo Ninéfécha': {}, 'Bandafassi': {}}}}}, 'FONGOLIMBI': {'C0MMUNES_d_ARRDT': {nan: {'COMM_RURALES': {'Fongolimbi': {}, 'Dimboli': {}}}}}}}}}, 'SALEMATA': {'COMMUNES': {'Salémata': {'ARRONDISSEMENTS': {'DAKATELI': {'C0MMUNES_d_ARRDT': {nan: {'COMM_RURALES': {'Thiankoye': {}, 'Dakatéli': {}}}}}, 'DAR SALAM': {'C0MMUNES_d_ARRDT': {nan: {'COMM_RURALES': {'Ethiolo': {}, 'Oubadj': {}, 'Dar Salam': {}}}}}}}}}, 'SARAYA': {'COMMUNES': {'Saraya': {'ARRONDISSEMENTS': {'BEMBOU': {'C0MMUNES_d_ARRDT': {nan: {'COMM_RURALES': {'Bembou': {}, 'Médina Baffé': {}}}}}, 'SABODALA': {'C0MMUNES_d_ARRDT': {nan: {'COMM_RURALES': {'Sabodala': {}, 'Khossanto': {}, 'Missirah Sirimana': {}}}}}}}}}}}, 'KOLDA': {'CODE_REGION': 'SN-KD', 'DEPARTEMENTS': {'KOLDA': {'COMMUNES': {'Kolda Dabo Salikégné Saré YobaDiéga ': {'ARRONDISSEMENTS': {'MAMPATIM': {'C0MMUNES_d_ARRDT': {nan: {'COMM_RURALES': {'Dialambéré Médina Chérif Bagadadji Mampatim Coumbacara': {}}}}}, 'SARE BIDJI': {'C0MMUNES_d_ARRDT': {nan: {'COMM_RURALES': {'Thiétty': {}, 'Saré Bidji': {}}}}}, 'DIOULACOLON': {'C0MMUNES_d_ARRDT': {nan: {'COMM_RURALES': {'Guiro Yéro Bocar': {}, 'Dioulacolon': {}, 'Tankanto Escale': {}, 'Médina El Hadj': {}}}}}}}}}, 'MEDINA YORO FOULAH': {'COMMUNES': {'Médina Yoro Foulah Pata': {'ARRONDISSEMENTS': {'FAFACOUROU Badion Fafacourou': {'C0MMUNES_d_ARRDT': {nan: {'COMM_RURALES': {nan: {}}}}}, 'NDORNA': {'C0MMUNES_d_ARRDT': {nan: {'COMM_RURALES': {'Bourouco': {}, 'Bignarabé': {}, 'Ndorna': {}, 'Koulinto': {}}}}}, 'NIAMING': {'C0MMUNES_d_ARRDT': {nan: {'COMM_RURALES': {'Niaming': {}, 'Dinguiraye': {}, 'Kéréwane': {}}}}}, 'SARE COLY SALLE': {'C0MMUNES_d_ARRDT': {nan: {'COMM_RURALES': {'Kandiaye': {}, 'Saré Coly Sallé': {}, 'Kandia': {}, 'Némataba': {}}}}}}}}}, 'VELINGARA': {'COMMUNES': {'Vélingara Kounkané Diaobé-Kabendou': {'ARRONDISSEMENTS': {'PAKOUR': {'C0MMUNES_d_ARRDT': {nan: {'COMM_RURALES': {'Pakour': {}, 'Paroumba': {}, 'Ouassadou': {}}}}}, 'BONCONTO': {'C0MMUNES_d_ARRDT': {nan: {'COMM_RURALES': {'Bonconto': {}, 'Linkering': {}, 'Médina Gounass': {}, 'Sinthiang Koundara': {}}}}}}}}}}}, 'LOUGA': {'CODE_REGION': 'SN-LG', 'DEPARTEMENTS': {'KEBEMER\\xa0': {'COMMUNES': {'Kébémer Guéoul': {'ARRONDISSEMENTS': {'NDANDE': {'C0MMUNES_d_ARRDT': {nan: {'COMM_RURALES': {'Bandegne Ouolof': {}, 'Diokoul Diawrigne': {}, 'Kab Gaye': {}, 'Ndande': {}, 'Thieppe': {}}}}}, 'DAROU MOUSTY': {'C0MMUNES_d_ARRDT': {nan: {'COMM_RURALES': {'Mbacké Cajor': {}, 'Darou Marnane': {}, 'Darou Mousty': {}, 'Mbadiane': {}, 'Ndoyene': {}, 'Sam Yabal': {}, 'Touba Mérina': {}}}}}, 'SAGATTA': {'C0MMUNES_d_ARRDT': {nan: {'COMM_RURALES': {'Ngourane Ouolof': {}, 'Thiolom Fall': {}, 'Sagatta Gueth': {}, 'Kanène Ndiob': {}, 'Loro': {}}}}}}}, 'BARKEDJI': {'ARRONDISSEMENTS': {'Barkédji Gassane Thiarny Thiel': {'C0MMUNES_d_ARRDT': {nan: {'COMM_RURALES': {nan: {}}}}}, 'SAGATTA': {'C0MMUNES_d_ARRDT': {nan: {'COMM_RURALES': {'DJOLOF Boulal': {}, 'Dealy': {}, 'Thiamène Passe': {}, 'Sagatta Djolof': {}}}}}}}}}, 'LINGUERE\\xa0': {'COMMUNES': {'Linguère Dahra': {'ARRONDISSEMENTS': {'DODJI': {'C0MMUNES_d_ARRDT': {nan: {'COMM_RURALES': {'Dodji': {}, 'Labgar': {}, 'Ouarkhokh': {}}}}}, 'YANG YANG': {'C0MMUNES_d_ARRDT': {nan: {'COMM_RURALES': {'Kamb Mbeuleukhé': {}, 'Mboula': {}, 'Téssékéré Forage': {}}}}}}}}}, 'LOUGA': {'COMMUNES': {'Louga': {'ARRONDISSEMENTS': {'COKI Coki': {'C0MMUNES_d_ARRDT': {nan: {'COMM_RURALES': {'Ndiagne': {}, 'Thiamène': {}, 'Pété Ouarack': {}}}}}, 'KEUR MOMAR SARR': {'C0MMUNES_d_ARRDT': {nan: {'COMM_RURALES': {'Keur Momar Sarr Nguer Malal': {}, 'Syer': {}, 'Gande': {}}}}}, 'MBEDIENE': {'C0MMUNES_d_ARRDT': {nan: {'COMM_RURALES': {'Mbédiene': {}, 'Niomré': {}, 'Nguidilé': {}, 'Kéle Gueye': {}}}}}, 'SAKAL': {'C0MMUNES_d_ARRDT': {nan: {'COMM_RURALES': {'Léona': {}, 'Ngueune Sarr': {}, 'Sakal': {}}}}}}}}}}}, 'MATAM': {'CODE_REGION': 'SN-MT', 'DEPARTEMENTS': {'KANEL': {'COMMUNES': {'Kanel Ouaoundé Semmé Dembancané': {'ARRONDISSEMENTS': {'WOURO SIDY': {'C0MMUNES_d_ARRDT': {nan: {'COMM_RURALES': {'Wouro Sidy': {}, 'Ndendory': {}}}}}}}}}, 'MATAM': {'COMMUNES': {'Hamady Hounaré Sinthiou Bamambé-Banadji': {'ARRONDISSEMENTS': {'ORKADIERE': {'C0MMUNES_d_ARRDT': {nan: {'COMM_RURALES': {'Aouré': {}, 'Bokiladji': {}, 'Orkadiéré': {}}}}}}}, 'Matam Ourossogui Thilogne': {'ARRONDISSEMENTS': {'AGNAM CIVOL': {'C0MMUNES_d_ARRDT': {nan: {'COMM_RURALES': {'Dabia': {}, 'Des Agnam': {}, 'Oréfondé': {}}}}}}}}}, 'RANEROU FERLO': {'COMMUNES': {'Matam Ourossogui Thilogne': {'ARRONDISSEMENTS': {'OGO': {'C0MMUNES_d_ARRDT': {nan: {'COMM_RURALES': {'Bokidiawé': {}, 'Nabadji Civol': {}, 'Ogo': {}}}}}}}, 'Ranérou': {'ARRONDISSEMENTS': {'VELINGARA': {'C0MMUNES_d_ARRDT': {nan: {'COMM_RURALES': {'Lougré Thioly': {}, 'Oudalaye': {}, 'Vélingara': {}}}}}}}}}}}, 'SAINT LOUIS': {'CODE_REGION': 'SN-SL', 'DEPARTEMENTS': {'DAGANA ': {'COMMUNES': {'Dagana Richard Toll Rosso Diama Gaé': {'ARRONDISSEMENTS': {'NDIAYE': {'C0MMUNES_d_ARRDT': {nan: {'COMM_RURALES': {'Ngnith': {}, 'Ronkh': {}}}}}}}, 'Ross-Béthio ': {'ARRONDISSEMENTS': {'MBANE': {'C0MMUNES_d_ARRDT': {nan: {'COMM_RURALES': {'Bokhol': {}, 'Mbane': {}}}}}}}}}, 'PODOR ': {'COMMUNES': {'Podor Golléré Ndioum Niandane Mbouma': {'ARRONDISSEMENTS': {'CAS CAS': {'C0MMUNES_d_ARRDT': {nan: {'COMM_RURALES': {'Méry': {}, 'Aéré Lao': {}, 'Madina Diathbé': {}}}}}}}, 'Guédé Chantier Démette Galoya Toucouleur': {'ARRONDISSEMENTS': {'GAMADJI SARE': {'C0MMUNES_d_ARRDT': {nan: {'COMM_RURALES': {'Gamadji Saré': {}, 'Dodel': {}, 'Guedé Village': {}}}}}, 'THILE BOUBACAR': {'C0MMUNES_d_ARRDT': {nan: {'COMM_RURALES': {'Fanaye': {}, 'Ndiayene Peindao': {}}}}}, 'SALDE': {'C0MMUNES_d_ARRDT': {nan: {'COMM_RURALES': {'Mbolo Birane': {}, 'Pété': {}}}}}}}}}, 'SAINT LOUIS ': {'COMMUNES': {'Saint Louis Mpal': {'ARRONDISSEMENTS': {'RAO': {'C0MMUNES_d_ARRDT': {nan: {'COMM_RURALES': {'Fass Ngom': {}, 'Ndiébène Gandiole': {}, 'Gandon': {}}}}}}}}}}}, 'SEDHIOU': {'CODE_REGION': 'SN-SE', 'DEPARTEMENTS': {'BOUNKILING ': {'COMMUNES': {'Bounkiling Madina Wandifa': {'ARRONDISSEMENTS': {nan: {'C0MMUNES_d_ARRDT': {nan: {'COMM_RURALES': {nan: {}}}}}, 'BOGHAL': {'C0MMUNES_d_ARRDT': {nan: {'COMM_RURALES': {'Boghal': {}, 'Tankon': {}, 'Ndiamacouta': {}}}}}, 'BONA': {'C0MMUNES_d_ARRDT': {nan: {'COMM_RURALES': {'Diacounda': {}, 'Inor': {}, 'Kandion Mangana': {}, 'Bona': {}}}}}, 'DIAROUME': {'C0MMUNES_d_ARRDT': {nan: {'COMM_RURALES': {'Diambati': {}, 'Faoune': {}, 'Diaroumé': {}}}}}}}}}, 'GOUDOMP ': {'COMMUNES': {'Goudomp Samine Tanaff Diattacounda': {'ARRONDISSEMENTS': {'DIAROUME': {'C0MMUNES_d_ARRDT': {nan: {'COMM_RURALES': {nan: {}}}}}, 'DJIBANAR': {'C0MMUNES_d_ARRDT': {nan: {'COMM_RURALES': {'Yarang Balante': {}, 'Mangaroungou Santo': {}, 'Simbandi Balante': {}, 'Djibanar': {}, 'Kaour': {}}}}}, 'SIMBANDI BRASSOU': {'C0MMUNES_d_ARRDT': {nan: {'COMM_RURALES': {'Diouboudou': {}, 'Simbandi Brassou': {}, 'Niagha': {}}}}}, 'KARANTABA': {'C0MMUNES_d_ARRDT': {nan: {'COMM_RURALES': {'Karantaba': {}, 'Kolibantang': {}}}}}, 'DJIREDJI': {'C0MMUNES_d_ARRDT': {nan: {'COMM_RURALES': {'Djiredji': {}, 'Bambaly': {}}}}}}}}}, 'SEDHIOU': {'COMMUNES': {'Sédhiou Diannah Malary Marsassoum': {'ARRONDISSEMENTS': {nan: {'C0MMUNES_d_ARRDT': {nan: {'COMM_RURALES': {'DIENDE Oudoucar': {}, 'Koussy': {}, 'Sakar': {}, 'Diendé': {}}}}}, 'DJIBABOUYA': {'C0MMUNES_d_ARRDT': {nan: {'COMM_RURALES': {'San Samba': {}, 'Bémet Bidjini': {}, 'Djibabouya': {}}}}}}}}}}}, 'TAMBACOUNDA': {'CODE_REGION': 'SN-TC', 'DEPARTEMENTS': {'BAKEL\\xa0': {'COMMUNES': {'Bakel Kidira Diawara': {'ARRONDISSEMENTS': {'BELE': {'C0MMUNES_d_ARRDT': {nan: {'COMM_RURALES': {'Bélé': {}, 'Sinthiou Fissa': {}}}}}, 'KENIEBA': {'C0MMUNES_d_ARRDT': {nan: {'COMM_RURALES': {'Toumboura Sadatou': {}, 'Madina Foulbé': {}}}}}, 'MOUDERY': {'C0MMUNES_d_ARRDT': {nan: {'COMM_RURALES': {'Moudery': {}, 'Ballou': {}, 'Gabou': {}}}}}, 'BOYNGUEL BAMBA': {'C0MMUNES_d_ARRDT': {nan: {'COMM_RURALES': {'Boynguel Bamba': {}, 'Sinthiou Mamadou Boubou': {}, 'Koussan': {}, 'Dougué': {}}}}}}}}}, 'GOUDIRY': {'COMMUNES': {'Goudiry Kothiary': {'ARRONDISSEMENTS': {'DIANKE MAKHA': {'C0MMUNES_d_ARRDT': {nan: {'COMM_RURALES': {'Dianké Makha': {}, 'Boutoucoufara': {}, 'Bani Israel': {}, 'Komoti': {}}}}}, 'KOULOR': {'C0MMUNES_d_ARRDT': {nan: {'COMM_RURALES': {'Sinthiou Bocar Aly': {}, 'Koulor': {}}}}}, 'BALA': {'C0MMUNES_d_ARRDT': {nan: {'COMM_RURALES': {'Bala': {}, 'Koar': {}, 'Goumbayel': {}}}}}}}}}, 'KOUPENTOUM': {'COMMUNES': {'Koumpentoum': {'ARRONDISSEMENTS': {'BAMBA THIALENE': {'C0MMUNES_d_ARRDT': {nan: {'COMM_RURALES': {'Ndame': {}, 'Kahène': {}, 'Bamba Thialène': {}}}}}, 'KOUTHIABA WOLOF': {'C0MMUNES_d_ARRDT': {nan: {'COMM_RURALES': {'Payar': {}, 'Kouthiaba Wolof': {}, 'Malème Niani': {}}}}}, 'MAKACOLIBANTANG': {'C0MMUNES_d_ARRDT': {nan: {'COMM_RURALES': {'Niani Toucouleur': {}, 'Makacolibantang': {}, 'Ndoga Babacar': {}}}}}}}}}, 'TAMBA': {'COMMUNES': {'Tambacounda': {'ARRONDISSEMENTS': {'MISSIRAH': {'C0MMUNES_d_ARRDT': {nan: {'COMM_RURALES': {'Dialacoto Missirah': {}, 'Néttéboulou': {}}}}}, 'KOUSSANAR ': {'C0MMUNES_d_ARRDT': {nan: {'COMM_RURALES': {'Sinthiou Malème': {}, 'Koussanar': {}}}}}}}}}}}, 'THIES': {'CODE_REGION': 'SN-TH', 'DEPARTEMENTS': {'MBOUR': {'COMMUNES': {'Joal – Fadhiouth Diass Nguekhokh Thiadiaye Saly Portudal Ngaparou Somone Popenguine': {'ARRONDISSEMENTS': {'FISSEL': {'C0MMUNES_d_ARRDT': {nan: {'COMM_RURALES': {'Fissel': {}, 'Ndiaganiao': {}}}}}, 'SESSENE': {'C0MMUNES_d_ARRDT': {nan: {'COMM_RURALES': {'Sessene': {}, 'Sandiara': {}, 'Nguéniène': {}}}}}, 'SINDIA': {'C0MMUNES_d_ARRDT': {nan: {'COMM_RURALES': {'Sindia Mbour Malicounda': {}}}}}, 'THIENABA': {'C0MMUNES_d_ARRDT': {nan: {'COMM_RURALES': {'Thiénaba': {}, 'Ngoudiane': {}, 'Ndiéyène Sirakh': {}, 'Touba Toul': {}}}}}}}}}, 'THIES': {'COMMUNES': {'Thies Kayar Khombole Pout': {'ARRONDISSEMENTS': {'KEUR MOUSSA': {'C0MMUNES_d_ARRDT': {nan: {'COMM_RURALES': {'Keur Moussa Diender': {}, 'Fandène': {}}}}}, 'NOTTO': {'C0MMUNES_d_ARRDT': {nan: {'COMM_RURALES': {'Notto': {}, 'Tassète': {}}}}}, 'MEOUANE': {'C0MMUNES_d_ARRDT': {nan: {'COMM_RURALES': {'Méouane': {}, 'Darou Khoudoss': {}, 'Taïba Ndiaye': {}}}}}}}}}, 'TIVAOUANE': {'COMMUNES': {'Tivaouane Mboro Mékhé': {'ARRONDISSEMENTS': {'MERINA DAKHAR': {'C0MMUNES_d_ARRDT': {nan: {'COMM_RURALES': {'Mérina Dakhar': {}, 'Koul': {}, 'Pékèsse': {}}}}}, 'NIAKHENE': {'C0MMUNES_d_ARRDT': {nan: {'COMM_RURALES': {'Niakhène': {}, 'Mbayène': {}, 'Thilmakha': {}, 'Ngandiouf': {}}}}}, 'PAMBAL': {'C0MMUNES_d_ARRDT': {nan: {'COMM_RURALES': {'Notto Gouye Diama': {}, 'Mont Rolland': {}, 'Pire Goureye': {}, 'Chérif Lo': {}}}}}}}}}}}, 'ZIGUINCHOR': {'CODE_REGION': 'SN-ZG', 'DEPARTEMENTS': {'ZIGUINCHOR': {'COMMUNES': {'Ziguinchor': {'ARRONDISSEMENTS': {'NIAGUIS': {'C0MMUNES_d_ARRDT': {nan: {'COMM_RURALES': {'Niaguis': {}, 'Adéane': {}, 'Boutoupa Camaracounda': {}}}}}, 'NIASSIA': {'C0MMUNES_d_ARRDT': {nan: {'COMM_RURALES': {'Niassia': {}, 'Enampore': {}}}}}}}}}, 'OUSSOUYE': {'COMMUNES': {'Oussouye': {'ARRONDISSEMENTS': {'CABROUSSE': {'C0MMUNES_d_ARRDT': {nan: {'COMM_RURALES': {'Diembéring': {}, 'Santhiaba Manjack': {}}}}}, 'LOUDIA OUOLOF': {'C0MMUNES_d_ARRDT': {nan: {'COMM_RURALES': {'Oukout': {}, 'Mlomp': {}}}}}, 'KATABA 1': {'C0MMUNES_d_ARRDT': {nan: {'COMM_RURALES': {'Kataba 1': {}}}}}, 'KATABA 2': {'C0MMUNES_d_ARRDT': {nan: {'COMM_RURALES': {'Djinaky': {}}}}}, 'KATABA 3': {'C0MMUNES_d_ARRDT': {nan: {'COMM_RURALES': {'Kafontine': {}}}}}}}}}, 'BIGNONA': {'COMMUNES': {'Bignona Thionck-Essyl Diouloulou': {'ARRONDISSEMENTS': {'TENGHORI': {'C0MMUNES_d_ARRDT': {nan: {'COMM_RURALES': {'Niamone Tenghori': {}, 'Ouonck': {}, 'Coubalan': {}}}}}, 'TENDOUCK': {'C0MMUNES_d_ARRDT': {nan: {'COMM_RURALES': {'Balinghore': {}, 'Diégoune': {}, 'Kartiack': {}, 'Mangagoulack': {}, 'Mlom': {}}}}}, 'SINDIAN': {'C0MMUNES_d_ARRDT': {nan: {'COMM_RURALES': {'Djibidione': {}, 'Oulampane': {}, 'Sindian': {}, 'Suelle': {}}}}}}}}}}}}\n"
     ]
    }
   ],
   "source": [
    "# Initialize an empty dictionary to store the nested structure\n",
    "nested_data = {}\n",
    "\n",
    "# Define a recursive function to nest the data\n",
    "def nest_data(region_name, department_name, commune_name, arrondissements_name, c0mmunes_d_arrdt_name, comm_rurales_name, nested_dict):\n",
    "    if region_name not in nested_dict:\n",
    "        nested_dict[region_name] = {'CODE_REGION': data.loc[data['REGION'] == region_name, 'CODE_REGION'].values[0],\n",
    "                                    'DEPARTEMENTS': {}}\n",
    "    \n",
    "    department_dict = nested_dict[region_name]['DEPARTEMENTS']\n",
    "    \n",
    "    if department_name not in department_dict:\n",
    "        department_dict[department_name] = {'COMMUNES': {}}\n",
    "    \n",
    "    commune_dict = department_dict[department_name]['COMMUNES']\n",
    "    \n",
    "    if commune_name not in commune_dict:\n",
    "        commune_dict[commune_name] = {'ARRONDISSEMENTS': {}}\n",
    "    \n",
    "    arrondissements_dict = commune_dict[commune_name]['ARRONDISSEMENTS']\n",
    "    \n",
    "    if arrondissements_name not in arrondissements_dict:\n",
    "        arrondissements_dict[arrondissements_name] = {'C0MMUNES_d_ARRDT': {}}\n",
    "    \n",
    "    c0mmunes_d_arrdt_dict = arrondissements_dict[arrondissements_name]['C0MMUNES_d_ARRDT']\n",
    "    \n",
    "    if c0mmunes_d_arrdt_name not in c0mmunes_d_arrdt_dict:\n",
    "        c0mmunes_d_arrdt_dict[c0mmunes_d_arrdt_name] = {'COMM_RURALES': {}}\n",
    "    \n",
    "    c0mmunes_d_arrdt_dict[c0mmunes_d_arrdt_name]['COMM_RURALES'][comm_rurales_name] = {}\n",
    "\n",
    "# Iterate through the DataFrame rows\n",
    "for index, row in data.iterrows():\n",
    "    region_name = row['REGION']\n",
    "    department_name = row['DEPARTEMENTS']\n",
    "    commune_name = row['COMMUNES']\n",
    "    arrondissements_name = row['ARRONDISSEMENTS']\n",
    "    c0mmunes_d_arrdt_name = row['C0MMUNES_d_ARRDT']\n",
    "    comm_rurales_name = row['COMM_RURALES']\n",
    "    \n",
    "    # Use the recursive function to nest the data\n",
    "    nest_data(region_name, department_name, commune_name, arrondissements_name, c0mmunes_d_arrdt_name, comm_rurales_name, nested_data)\n",
    "\n",
    "# Print the resulting nested dictionary\n",
    "print(nested_data)\n"
   ]
  },
  {
   "cell_type": "code",
   "execution_count": 137,
   "id": "2f0695bf",
   "metadata": {},
   "outputs": [],
   "source": [
    "import json\n",
    "with open('data.json', 'w') as f:\n",
    "    f.write(json.dumps(nested_data, ensure_ascii = False))"
   ]
  },
  {
   "cell_type": "code",
   "execution_count": 138,
   "id": "99ea1588",
   "metadata": {},
   "outputs": [
    {
     "name": "stdout",
     "output_type": "stream",
     "text": [
      "{\"DAKAR\": {\"CODE_REGION\": \"SN-DK\", \"DEPARTEMENTS\": {\"Dakar\": {\"COMMUNES\": {\"Dakar\": {\"ARRONDISSEMENTS\": {\"DAKAR-PLATEAU\": {\"C0MMUNES_d_ARRDT\": {\"Gorée\": {\"COMM_RURALES\": {\"NaN\": {}}}, \"Dakar - Plateau\": {\"COMM_RURALES\": {\"NaN\": {}}}, \"Gueule Tapée – Fass-Colobane\": {\"COMM_RURALES\": {\"NaN\": {}}}, \"Fann - Point E - Amitié\": {\"COMM_RURALES\": {\"NaN\": {}}}}}, \"GRAND DAKAR\": {\"C0MMUNES_d_ARRDT\": {\"Grand Dakar\": {\"COMM_RURALES\": {\"NaN\": {}}}, \"Biscuiterie\": {\"COMM_RURALES\": {\"NaN\": {}}}, \"Dieuppeul – Derklé\": {\"COMM_RURALES\": {\"NaN\": {}}}, \"Hann - Bel Air\": {\"COMM_RURALES\": {\"NaN\": {}}}, \"Sicap - Liberté\": {\"COMM_RURALES\": {\"NaN\": {}}}, \"H.L.M\": {\"COMM_RURALES\": {\"NaN\": {}}}}}, \"ALMADIES\": {\"C0MMUNES_d_ARRDT\": {\"Mermoz – Sacré Cœur\": {\"COMM_RURALES\": {\"NaN\": {}}}, \"Ouakam\": {\"COMM_RURALES\": {\"NaN\": {}}}, \"Ngor\": {\"COMM_RURALES\": {\"NaN\": {}}}, \"Yoff\": {\"COMM_RURALES\": {\"NaN\": {}}}}}, \"PARCELLES ASSAINIES\": {\"C0MMUNES_d_ARRDT\": {\"Grand Yoff\": {\"COMM_RURALES\": {\"NaN\": {}}}, \"Patte D’Oie\": {\"COMM_RURALES\": {\"NaN\": {}}}, \"Parcelles Assainies\": {\"COMM_RURALES\": {\"NaN\": {}}}, \"Cambérène\": {\"COMM_RURALES\": {\"NaN\": {}}}}}}}}}, \"GUEDIAWAYE\": {\"COMMUNES\": {\"Guédiawaye\": {\"ARRONDISSEMENTS\": {\"GUEDIAWAYE\": {\"C0MMUNES_d_ARRDT\": {\"Golf Sud\": {\"COMM_RURALES\": {\"NaN\": {}}}, \"Sam Notaire\": {\"COMM_RURALES\": {\"NaN\": {}}}, \"Ndiarème Limamoulaye\": {\"COMM_RURALES\": {\"NaN\": {}}}, \"Médina Gounass\": {\"COMM_RURALES\": {\"NaN\": {}}}, \"Wakhinane Nimzath\": {\"COMM_RURALES\": {\"NaN\": {}}}}}, \"THIAROYE\": {\"C0MMUNES_d_ARRDT\": {\"Thiaroye Gare\": {\"COMM_RURALES\": {\"NaN\": {}}}, \"Mbao\": {\"COMM_RURALES\": {\"NaN\": {}}}, \"Thiaroye sur Mer\": {\"COMM_RURALES\": {\"NaN\": {}}}, \"Tivaouane – Diack Sao\": {\"COMM_RURALES\": {\"NaN\": {}}}, \"Diamagueune Sicap Mbao\": {\"COMM_RURALES\": {\"NaN\": {}}}}}}}, \"Pikine\": {\"ARRONDISSEMENTS\": {\"NIAYES\": {\"C0MMUNES_d_ARRDT\": {\"Keur Massar\": {\"COMM_RURALES\": {\"NaN\": {}}}, \"Malika\": {\"COMM_RURALES\": {\"NaN\": {}}}, \"Yeumbeul Nord\": {\"COMM_RURALES\": {\"NaN\": {}}}, \"Yeumbeul Sud\": {\"COMM_RURALES\": {\"NaN\": {}}}}}, \"PIKINE DAGOUDAN\": {\"C0MMUNES_d_ARRDT\": {\"Pikine Ouest\": {\"COMM_RURALES\": {\"NaN\": {}}}, \"Pikine Est\": {\"COMM_RURALES\": {\"NaN\": {}}}, \"Pikine Nord\": {\"COMM_RURALES\": {\"NaN\": {}}}, \"Dalifort\": {\"COMM_RURALES\": {\"NaN\": {}}}, \"Djidah Thiaroye Kao\": {\"COMM_RURALES\": {\"NaN\": {}}}, \"Guinaw Rail Nord\": {\"COMM_RURALES\": {\"NaN\": {}}}, \"Guinaw Rail Sud\": {\"COMM_RURALES\": {\"NaN\": {}}}}}}}}}, \"RUFISQUE\": {\"COMMUNES\": {\"Rufisque\": {\"ARRONDISSEMENTS\": {\"RUFISQUE - EST\": {\"C0MMUNES_d_ARRDT\": {\"Rufisque Est\": {\"COMM_RURALES\": {\"NaN\": {}}}, \"Bargny Rufisque Nord\": {\"COMM_RURALES\": {\"NaN\": {}}}, \"Diamniadio Rufisque Ouest\": {\"COMM_RURALES\": {\"NaN\": {}}}, \"Sébikotane\": {\"COMM_RURALES\": {\"NaN\": {}}}}}, \"SANGALKAM\": {\"C0MMUNES_d_ARRDT\": {\"NaN\": {\"COMM_RURALES\": {\"Sangalkam Yenne\": {}}}}}}}}}}}, \"DIOURBEL\": {\"CODE_REGION\": \"SN-DB\", \"DEPARTEMENTS\": {\"BAMBEY\": {\"COMMUNES\": {\"Bambey\": {\"ARRONDISSEMENTS\": {\"BABA GARAGE\": {\"C0MMUNES_d_ARRDT\": {\"Dinguiraye\": {\"COMM_RURALES\": {\"NaN\": {}}}, \"Baba Garage\": {\"COMM_RURALES\": {\"NaN\": {}}}, \"Keur Samba Kane\": {\"COMM_RURALES\": {\"NaN\": {}}}}}, \"NGOYE Ngoye\": {\"C0MMUNES_d_ARRDT\": {\"Thiakhar\": {\"COMM_RURALES\": {\"NaN\": {}}}, \"Ndondol\": {\"COMM_RURALES\": {\"NaN\": {}}}, \"Ndangalma\": {\"COMM_RURALES\": {\"NaN\": {}}}}}, \"LAMBAYE\": {\"C0MMUNES_d_ARRDT\": {\"Lambaye\": {\"COMM_RURALES\": {\"NaN\": {}}}, \"Réfane\": {\"COMM_RURALES\": {\"NaN\": {}}}, \"Gawane\": {\"COMM_RURALES\": {\"NaN\": {}}}, \"Ngogom\": {\"COMM_RURALES\": {\"NaN\": {}}}}}}}}}, \"DIOURBEL\": {\"COMMUNES\": {\"Diourbel\": {\"ARRONDISSEMENTS\": {\"NDOULO\": {\"C0MMUNES_d_ARRDT\": {\"Ndoulo\": {\"COMM_RURALES\": {\"NaN\": {}}}, \"Ngohe\": {\"COMM_RURALES\": {\"NaN\": {}}}, \"Pattar\": {\"COMM_RURALES\": {\"NaN\": {}}}, \"Tocky Gare\": {\"COMM_RURALES\": {\"NaN\": {}}}, \"Touré Mbondé\": {\"COMM_RURALES\": {\"NaN\": {}}}}}, \"NDINDY\": {\"C0MMUNES_d_ARRDT\": {\"Ndankh Séne\": {\"COMM_RURALES\": {\"NaN\": {}}}, \"Gade Escale\": {\"COMM_RURALES\": {\"NaN\": {}}}, \"Keur Ngalgou\": {\"COMM_RURALES\": {\"NaN\": {}}}, \"Ndindy\": {\"COMM_RURALES\": {\"NaN\": {}}}, \"Taïba Moutoupha\": {\"COMM_RURALES\": {\"NaN\": {}}}}}}}}}, \"MBACKE\": {\"COMMUNES\": {\"Mbacké\": {\"ARRONDISSEMENTS\": {\"NDAME\": {\"C0MMUNES_d_ARRDT\": {\"Touba Mosquée\": {\"COMM_RURALES\": {\"NaN\": {}}}, \"Dalla Ngabou\": {\"COMM_RURALES\": {\"NaN\": {}}}, \"Missirah\": {\"COMM_RURALES\": {\"NaN\": {}}}, \"Nghaye\": {\"COMM_RURALES\": {\"NaN\": {}}}, \"Touba Fall\": {\"COMM_RURALES\": {\"NaN\": {}}}}}, \"Kael\": {\"C0MMUNES_d_ARRDT\": {\"Madina\": {\"COMM_RURALES\": {\"NaN\": {}}}, \"KAEL Touba Mboul\": {\"COMM_RURALES\": {\"NaN\": {}}}, \"Dendèye Gouy Gui\": {\"COMM_RURALES\": {\"NaN\": {}}}, \"Ndioumane Taïba Thièkène\": {\"COMM_RURALES\": {\"NaN\": {}}}}}, \"TAIF\": {\"C0MMUNES_d_ARRDT\": {\"Taïf\": {\"COMM_RURALES\": {\"NaN\": {}}}, \"Sadio\": {\"COMM_RURALES\": {\"NaN\": {}}}}}}}}}}}, \"FATICK\": {\"CODE_REGION\": \"SN-FK\", \"DEPARTEMENTS\": {\"FATICK Dioffior\": {\"COMMUNES\": {\"Fatick\": {\"ARRONDISSEMENTS\": {\"DIAKHAO\": {\"C0MMUNES_d_ARRDT\": {\"NaN\": {\"COMM_RURALES\": {\"Diakhao\": {}, \"Diaoulé\": {}, \"Mbéllacadiao\": {}, \"Ndiop\": {}}}}}, \"FIMELA\": {\"C0MMUNES_d_ARRDT\": {\"NaN\": {\"COMM_RURALES\": {\"Djilasse\": {}, \"Fimela\": {}, \"Loul Sessène\": {}, \"Palmarin Facao\": {}}}}}, \"NIAKHAR\": {\"C0MMUNES_d_ARRDT\": {\"NaN\": {\"COMM_RURALES\": {\"Niakhar\": {}, \"Ngayokhème\": {}, \"Patar\": {}}}}}, \"TATTAGUINE\": {\"C0MMUNES_d_ARRDT\": {\"NaN\": {\"COMM_RURALES\": {\"Diarrère\": {}, \"Diouroup\": {}, \"Tattaguine\": {}}}}}, \"TOUBACOUTA\": {\"C0MMUNES_d_ARRDT\": {\"NaN\": {\"COMM_RURALES\": {\"Keur Saloum Diané\": {}, \"Keur Samba Guèye\": {}, \"Tobacouta\": {}, \"Nioro Alassane Talla\": {}}}}}}}}}, \"FOUNDIOUGNE\": {\"COMMUNES\": {\"Foundiougne Passy\": {\"ARRONDISSEMENTS\": {\"NaN\": {\"C0MMUNES_d_ARRDT\": {\"NaN\": {\"COMM_RURALES\": {\"NaN\": {}}}}}}}, \"Sokone Soum Karang Post\": {\"ARRONDISSEMENTS\": {\"DJILOR\": {\"C0MMUNES_d_ARRDT\": {\"NaN\": {\"COMM_RURALES\": {\"Diossong\": {}, \"Djilor\": {}}}}}, \"NIODIOR\": {\"C0MMUNES_d_ARRDT\": {\"NaN\": {\"COMM_RURALES\": {\"Bassoul\": {}, \"Dionewar\": {}, \"Djirnda\": {}}}}}, \"COLOBANE\": {\"C0MMUNES_d_ARRDT\": {\"NaN\": {\"COMM_RURALES\": {\"Colobane\": {}, \"Mbar\": {}}}}}}}}}, \"GOSSAS\": {\"COMMUNES\": {\"Gossas\": {\"ARRONDISSEMENTS\": {\"OUADIOUR\": {\"C0MMUNES_d_ARRDT\": {\"NaN\": {\"COMM_RURALES\": {\"Ndiene Lagan\": {}, \"Ouadiour\": {}, \"Patar Lia\": {}}}}}}}}}}}, \"KAFFRINE\": {\"CODE_REGION\": \"SN-KA\", \"DEPARTEMENTS\": {\"KEUR MBOUCKI\": {\"COMMUNES\": {\"NaN\": {\"ARRONDISSEMENTS\": {\"BIRKELANE\": {\"C0MMUNES_d_ARRDT\": {\"NaN\": {\"COMM_RURALES\": {\"Keur Mboucki\": {}, \"Birkelane\": {}}}}}, \"MABO\": {\"C0MMUNES_d_ARRDT\": {\"NaN\": {\"COMM_RURALES\": {\"Mabo\": {}, \"Ndiognick\": {}, \"Touba Mbella\": {}}}}}}}}}, \"KAFFRINE\": {\"COMMUNES\": {\"Kaffrine Nganda\": {\"ARRONDISSEMENTS\": {\"KATAKEL\": {\"C0MMUNES_d_ARRDT\": {\"NaN\": {\"COMM_RURALES\": {\"Diamagadio\": {}, \"Diokoul Belbouck\": {}, \"Kathiotte\": {}, \"Médinatoul Salam 2\": {}}}}}, \"GNIBY\": {\"C0MMUNES_d_ARRDT\": {\"NaN\": {\"COMM_RURALES\": {\"Gniby\": {}, \"Boulel\": {}, \"Kahi\": {}}}}}}}}}, \"KOUNGHEUL\": {\"COMMUNES\": {\"Koungheul\": {\"ARRONDISSEMENTS\": {\"MISSIRAH WADENE\": {\"C0MMUNES_d_ARRDT\": {\"NaN\": {\"COMM_RURALES\": {\"Missirah Wadène\": {}, \"Maka Yop\": {}, \"Ngainthe Pathé\": {}}}}}, \"IDA MOURIDE\": {\"C0MMUNES_d_ARRDT\": {\"NaN\": {\"COMM_RURALES\": {\"Fass Thièkène\": {}, \"Saly Escale\": {}, \"Ida Mouride\": {}}}}}, \"LOUR ESCALE\": {\"C0MMUNES_d_ARRDT\": {\"NaN\": {\"COMM_RURALES\": {\"Ribot Escale\": {}, \"Lour Escale\": {}}}}}}}}}, \"MALEM HODDAR\": {\"COMMUNES\": {\"Malem Hoddar\": {\"ARRONDISSEMENTS\": {\"DAROU MINAME 2\": {\"C0MMUNES_d_ARRDT\": {\"NaN\": {\"COMM_RURALES\": {\"Darou Miname 2\": {}, \"Khelcom\": {}, \"Ndioum Ngainth\": {}}}}}, \"SAGNA\": {\"C0MMUNES_d_ARRDT\": {\"NaN\": {\"COMM_RURALES\": {\"Sagna\": {}, \"Dianké Souf\": {}}}}}}}}}}}, \"KAOLACK\": {\"CODE_REGION\": \"SN-KL\", \"DEPARTEMENTS\": {\"MBADAKHOUNE\": {\"COMMUNES\": {\"Guinguinéo\": {\"ARRONDISSEMENTS\": {\"GUINGUINEO\": {\"C0MMUNES_d_ARRDT\": {\"NaN\": {\"COMM_RURALES\": {\"Khelcom - Birane \": {}, \"Mbadakhoune \": {}, \"Ndiago \": {}, \"Ngathie Naoudé\": {}}}}}, \"NGUELOU\": {\"C0MMUNES_d_ARRDT\": {\"NaN\": {\"COMM_RURALES\": {\"Gagnick \": {}, \"Mboss \": {}, \"Ourour\": {}}}}}}}}}, \"KAOLACK\": {\"COMMUNES\": {\"Kaolack Kahone Ndoffane Gandiaye\": {\"ARRONDISSEMENTS\": {\"KOUMBAL\": {\"C0MMUNES_d_ARRDT\": {\"NaN\": {\"COMM_RURALES\": {\"Keur Baka\": {}, \"Latmingué\": {}, \"Thiaré\": {}}}}}, \"NDIEDIENG\": {\"C0MMUNES_d_ARRDT\": {\"NaN\": {\"COMM_RURALES\": {\"Keur Socé\": {}, \"Ndiaffate\": {}, \"Ndiedieng\": {}}}}}, \"SIBASSOR\": {\"C0MMUNES_d_ARRDT\": {\"NaN\": {\"COMM_RURALES\": {\"Dya\": {}, \"Ndiébel\": {}, \"Thiomby\": {}}}}}}}}}, \"NIORO\": {\"COMMUNES\": {\"Nioro Keur Madiabel\": {\"ARRONDISSEMENTS\": {\"MEDINA SABAKH\": {\"C0MMUNES_d_ARRDT\": {\"NaN\": {\"COMM_RURALES\": {\"Kayemor\": {}, \"Médina Sabakh\": {}, \"Ngayene\": {}}}}}, \"PAOS KOTO\": {\"C0MMUNES_d_ARRDT\": {\"NaN\": {\"COMM_RURALES\": {\"Gainthe Kaye\": {}, \"Paos Koto\": {}, \"Porokhane\": {}, \"Taïba Niassène\": {}}}}}, \"WACK NGOUNA\": {\"C0MMUNES_d_ARRDT\": {\"NaN\": {\"COMM_RURALES\": {\"Keur Maba Diakhou\": {}, \"Keur Madongo\": {}, \"Ndramé Escale\": {}, \"Wack Ngouna\": {}}}}}}}}}}}, \"KEDOUGOU\": {\"CODE_REGION\": \"SN-KE\", \"DEPARTEMENTS\": {\"KEDOUGOU\": {\"COMMUNES\": {\"Kédougou\": {\"ARRONDISSEMENTS\": {\"BANDAFASSI\": {\"C0MMUNES_d_ARRDT\": {\"NaN\": {\"COMM_RURALES\": {\"Tomboroncoto\": {}, \"Dindefelo Ninéfécha\": {}, \"Bandafassi\": {}}}}}, \"FONGOLIMBI\": {\"C0MMUNES_d_ARRDT\": {\"NaN\": {\"COMM_RURALES\": {\"Fongolimbi\": {}, \"Dimboli\": {}}}}}}}}}, \"SALEMATA\": {\"COMMUNES\": {\"Salémata\": {\"ARRONDISSEMENTS\": {\"DAKATELI\": {\"C0MMUNES_d_ARRDT\": {\"NaN\": {\"COMM_RURALES\": {\"Thiankoye\": {}, \"Dakatéli\": {}}}}}, \"DAR SALAM\": {\"C0MMUNES_d_ARRDT\": {\"NaN\": {\"COMM_RURALES\": {\"Ethiolo\": {}, \"Oubadj\": {}, \"Dar Salam\": {}}}}}}}}}, \"SARAYA\": {\"COMMUNES\": {\"Saraya\": {\"ARRONDISSEMENTS\": {\"BEMBOU\": {\"C0MMUNES_d_ARRDT\": {\"NaN\": {\"COMM_RURALES\": {\"Bembou\": {}, \"Médina Baffé\": {}}}}}, \"SABODALA\": {\"C0MMUNES_d_ARRDT\": {\"NaN\": {\"COMM_RURALES\": {\"Sabodala\": {}, \"Khossanto\": {}, \"Missirah Sirimana\": {}}}}}}}}}}}, \"KOLDA\": {\"CODE_REGION\": \"SN-KD\", \"DEPARTEMENTS\": {\"KOLDA\": {\"COMMUNES\": {\"Kolda Dabo Salikégné Saré YobaDiéga \": {\"ARRONDISSEMENTS\": {\"MAMPATIM\": {\"C0MMUNES_d_ARRDT\": {\"NaN\": {\"COMM_RURALES\": {\"Dialambéré Médina Chérif Bagadadji Mampatim Coumbacara\": {}}}}}, \"SARE BIDJI\": {\"C0MMUNES_d_ARRDT\": {\"NaN\": {\"COMM_RURALES\": {\"Thiétty\": {}, \"Saré Bidji\": {}}}}}, \"DIOULACOLON\": {\"C0MMUNES_d_ARRDT\": {\"NaN\": {\"COMM_RURALES\": {\"Guiro Yéro Bocar\": {}, \"Dioulacolon\": {}, \"Tankanto Escale\": {}, \"Médina El Hadj\": {}}}}}}}}}, \"MEDINA YORO FOULAH\": {\"COMMUNES\": {\"Médina Yoro Foulah Pata\": {\"ARRONDISSEMENTS\": {\"FAFACOUROU Badion Fafacourou\": {\"C0MMUNES_d_ARRDT\": {\"NaN\": {\"COMM_RURALES\": {\"NaN\": {}}}}}, \"NDORNA\": {\"C0MMUNES_d_ARRDT\": {\"NaN\": {\"COMM_RURALES\": {\"Bourouco\": {}, \"Bignarabé\": {}, \"Ndorna\": {}, \"Koulinto\": {}}}}}, \"NIAMING\": {\"C0MMUNES_d_ARRDT\": {\"NaN\": {\"COMM_RURALES\": {\"Niaming\": {}, \"Dinguiraye\": {}, \"Kéréwane\": {}}}}}, \"SARE COLY SALLE\": {\"C0MMUNES_d_ARRDT\": {\"NaN\": {\"COMM_RURALES\": {\"Kandiaye\": {}, \"Saré Coly Sallé\": {}, \"Kandia\": {}, \"Némataba\": {}}}}}}}}}, \"VELINGARA\": {\"COMMUNES\": {\"Vélingara Kounkané Diaobé-Kabendou\": {\"ARRONDISSEMENTS\": {\"PAKOUR\": {\"C0MMUNES_d_ARRDT\": {\"NaN\": {\"COMM_RURALES\": {\"Pakour\": {}, \"Paroumba\": {}, \"Ouassadou\": {}}}}}, \"BONCONTO\": {\"C0MMUNES_d_ARRDT\": {\"NaN\": {\"COMM_RURALES\": {\"Bonconto\": {}, \"Linkering\": {}, \"Médina Gounass\": {}, \"Sinthiang Koundara\": {}}}}}}}}}}}, \"LOUGA\": {\"CODE_REGION\": \"SN-LG\", \"DEPARTEMENTS\": {\"KEBEMER \": {\"COMMUNES\": {\"Kébémer Guéoul\": {\"ARRONDISSEMENTS\": {\"NDANDE\": {\"C0MMUNES_d_ARRDT\": {\"NaN\": {\"COMM_RURALES\": {\"Bandegne Ouolof\": {}, \"Diokoul Diawrigne\": {}, \"Kab Gaye\": {}, \"Ndande\": {}, \"Thieppe\": {}}}}}, \"DAROU MOUSTY\": {\"C0MMUNES_d_ARRDT\": {\"NaN\": {\"COMM_RURALES\": {\"Mbacké Cajor\": {}, \"Darou Marnane\": {}, \"Darou Mousty\": {}, \"Mbadiane\": {}, \"Ndoyene\": {}, \"Sam Yabal\": {}, \"Touba Mérina\": {}}}}}, \"SAGATTA\": {\"C0MMUNES_d_ARRDT\": {\"NaN\": {\"COMM_RURALES\": {\"Ngourane Ouolof\": {}, \"Thiolom Fall\": {}, \"Sagatta Gueth\": {}, \"Kanène Ndiob\": {}, \"Loro\": {}}}}}}}, \"BARKEDJI\": {\"ARRONDISSEMENTS\": {\"Barkédji Gassane Thiarny Thiel\": {\"C0MMUNES_d_ARRDT\": {\"NaN\": {\"COMM_RURALES\": {\"NaN\": {}}}}}, \"SAGATTA\": {\"C0MMUNES_d_ARRDT\": {\"NaN\": {\"COMM_RURALES\": {\"DJOLOF Boulal\": {}, \"Dealy\": {}, \"Thiamène Passe\": {}, \"Sagatta Djolof\": {}}}}}}}}}, \"LINGUERE \": {\"COMMUNES\": {\"Linguère Dahra\": {\"ARRONDISSEMENTS\": {\"DODJI\": {\"C0MMUNES_d_ARRDT\": {\"NaN\": {\"COMM_RURALES\": {\"Dodji\": {}, \"Labgar\": {}, \"Ouarkhokh\": {}}}}}, \"YANG YANG\": {\"C0MMUNES_d_ARRDT\": {\"NaN\": {\"COMM_RURALES\": {\"Kamb Mbeuleukhé\": {}, \"Mboula\": {}, \"Téssékéré Forage\": {}}}}}}}}}, \"LOUGA\": {\"COMMUNES\": {\"Louga\": {\"ARRONDISSEMENTS\": {\"COKI Coki\": {\"C0MMUNES_d_ARRDT\": {\"NaN\": {\"COMM_RURALES\": {\"Ndiagne\": {}, \"Thiamène\": {}, \"Pété Ouarack\": {}}}}}, \"KEUR MOMAR SARR\": {\"C0MMUNES_d_ARRDT\": {\"NaN\": {\"COMM_RURALES\": {\"Keur Momar Sarr Nguer Malal\": {}, \"Syer\": {}, \"Gande\": {}}}}}, \"MBEDIENE\": {\"C0MMUNES_d_ARRDT\": {\"NaN\": {\"COMM_RURALES\": {\"Mbédiene\": {}, \"Niomré\": {}, \"Nguidilé\": {}, \"Kéle Gueye\": {}}}}}, \"SAKAL\": {\"C0MMUNES_d_ARRDT\": {\"NaN\": {\"COMM_RURALES\": {\"Léona\": {}, \"Ngueune Sarr\": {}, \"Sakal\": {}}}}}}}}}}}, \"MATAM\": {\"CODE_REGION\": \"SN-MT\", \"DEPARTEMENTS\": {\"KANEL\": {\"COMMUNES\": {\"Kanel Ouaoundé Semmé Dembancané\": {\"ARRONDISSEMENTS\": {\"WOURO SIDY\": {\"C0MMUNES_d_ARRDT\": {\"NaN\": {\"COMM_RURALES\": {\"Wouro Sidy\": {}, \"Ndendory\": {}}}}}}}}}, \"MATAM\": {\"COMMUNES\": {\"Hamady Hounaré Sinthiou Bamambé-Banadji\": {\"ARRONDISSEMENTS\": {\"ORKADIERE\": {\"C0MMUNES_d_ARRDT\": {\"NaN\": {\"COMM_RURALES\": {\"Aouré\": {}, \"Bokiladji\": {}, \"Orkadiéré\": {}}}}}}}, \"Matam Ourossogui Thilogne\": {\"ARRONDISSEMENTS\": {\"AGNAM CIVOL\": {\"C0MMUNES_d_ARRDT\": {\"NaN\": {\"COMM_RURALES\": {\"Dabia\": {}, \"Des Agnam\": {}, \"Oréfondé\": {}}}}}}}}}, \"RANEROU FERLO\": {\"COMMUNES\": {\"Matam Ourossogui Thilogne\": {\"ARRONDISSEMENTS\": {\"OGO\": {\"C0MMUNES_d_ARRDT\": {\"NaN\": {\"COMM_RURALES\": {\"Bokidiawé\": {}, \"Nabadji Civol\": {}, \"Ogo\": {}}}}}}}, \"Ranérou\": {\"ARRONDISSEMENTS\": {\"VELINGARA\": {\"C0MMUNES_d_ARRDT\": {\"NaN\": {\"COMM_RURALES\": {\"Lougré Thioly\": {}, \"Oudalaye\": {}, \"Vélingara\": {}}}}}}}}}}}, \"SAINT LOUIS\": {\"CODE_REGION\": \"SN-SL\", \"DEPARTEMENTS\": {\"DAGANA \": {\"COMMUNES\": {\"Dagana Richard Toll Rosso Diama Gaé\": {\"ARRONDISSEMENTS\": {\"NDIAYE\": {\"C0MMUNES_d_ARRDT\": {\"NaN\": {\"COMM_RURALES\": {\"Ngnith\": {}, \"Ronkh\": {}}}}}}}, \"Ross-Béthio \": {\"ARRONDISSEMENTS\": {\"MBANE\": {\"C0MMUNES_d_ARRDT\": {\"NaN\": {\"COMM_RURALES\": {\"Bokhol\": {}, \"Mbane\": {}}}}}}}}}, \"PODOR \": {\"COMMUNES\": {\"Podor Golléré Ndioum Niandane Mbouma\": {\"ARRONDISSEMENTS\": {\"CAS CAS\": {\"C0MMUNES_d_ARRDT\": {\"NaN\": {\"COMM_RURALES\": {\"Méry\": {}, \"Aéré Lao\": {}, \"Madina Diathbé\": {}}}}}}}, \"Guédé Chantier Démette Galoya Toucouleur\": {\"ARRONDISSEMENTS\": {\"GAMADJI SARE\": {\"C0MMUNES_d_ARRDT\": {\"NaN\": {\"COMM_RURALES\": {\"Gamadji Saré\": {}, \"Dodel\": {}, \"Guedé Village\": {}}}}}, \"THILE BOUBACAR\": {\"C0MMUNES_d_ARRDT\": {\"NaN\": {\"COMM_RURALES\": {\"Fanaye\": {}, \"Ndiayene Peindao\": {}}}}}, \"SALDE\": {\"C0MMUNES_d_ARRDT\": {\"NaN\": {\"COMM_RURALES\": {\"Mbolo Birane\": {}, \"Pété\": {}}}}}}}}}, \"SAINT LOUIS \": {\"COMMUNES\": {\"Saint Louis Mpal\": {\"ARRONDISSEMENTS\": {\"RAO\": {\"C0MMUNES_d_ARRDT\": {\"NaN\": {\"COMM_RURALES\": {\"Fass Ngom\": {}, \"Ndiébène Gandiole\": {}, \"Gandon\": {}}}}}}}}}}}, \"SEDHIOU\": {\"CODE_REGION\": \"SN-SE\", \"DEPARTEMENTS\": {\"BOUNKILING \": {\"COMMUNES\": {\"Bounkiling Madina Wandifa\": {\"ARRONDISSEMENTS\": {\"NaN\": {\"C0MMUNES_d_ARRDT\": {\"NaN\": {\"COMM_RURALES\": {\"NaN\": {}}}}}, \"BOGHAL\": {\"C0MMUNES_d_ARRDT\": {\"NaN\": {\"COMM_RURALES\": {\"Boghal\": {}, \"Tankon\": {}, \"Ndiamacouta\": {}}}}}, \"BONA\": {\"C0MMUNES_d_ARRDT\": {\"NaN\": {\"COMM_RURALES\": {\"Diacounda\": {}, \"Inor\": {}, \"Kandion Mangana\": {}, \"Bona\": {}}}}}, \"DIAROUME\": {\"C0MMUNES_d_ARRDT\": {\"NaN\": {\"COMM_RURALES\": {\"Diambati\": {}, \"Faoune\": {}, \"Diaroumé\": {}}}}}}}}}, \"GOUDOMP \": {\"COMMUNES\": {\"Goudomp Samine Tanaff Diattacounda\": {\"ARRONDISSEMENTS\": {\"DIAROUME\": {\"C0MMUNES_d_ARRDT\": {\"NaN\": {\"COMM_RURALES\": {\"NaN\": {}}}}}, \"DJIBANAR\": {\"C0MMUNES_d_ARRDT\": {\"NaN\": {\"COMM_RURALES\": {\"Yarang Balante\": {}, \"Mangaroungou Santo\": {}, \"Simbandi Balante\": {}, \"Djibanar\": {}, \"Kaour\": {}}}}}, \"SIMBANDI BRASSOU\": {\"C0MMUNES_d_ARRDT\": {\"NaN\": {\"COMM_RURALES\": {\"Diouboudou\": {}, \"Simbandi Brassou\": {}, \"Niagha\": {}}}}}, \"KARANTABA\": {\"C0MMUNES_d_ARRDT\": {\"NaN\": {\"COMM_RURALES\": {\"Karantaba\": {}, \"Kolibantang\": {}}}}}, \"DJIREDJI\": {\"C0MMUNES_d_ARRDT\": {\"NaN\": {\"COMM_RURALES\": {\"Djiredji\": {}, \"Bambaly\": {}}}}}}}}}, \"SEDHIOU\": {\"COMMUNES\": {\"Sédhiou Diannah Malary Marsassoum\": {\"ARRONDISSEMENTS\": {\"NaN\": {\"C0MMUNES_d_ARRDT\": {\"NaN\": {\"COMM_RURALES\": {\"DIENDE Oudoucar\": {}, \"Koussy\": {}, \"Sakar\": {}, \"Diendé\": {}}}}}, \"DJIBABOUYA\": {\"C0MMUNES_d_ARRDT\": {\"NaN\": {\"COMM_RURALES\": {\"San Samba\": {}, \"Bémet Bidjini\": {}, \"Djibabouya\": {}}}}}}}}}}}, \"TAMBACOUNDA\": {\"CODE_REGION\": \"SN-TC\", \"DEPARTEMENTS\": {\"BAKEL \": {\"COMMUNES\": {\"Bakel Kidira Diawara\": {\"ARRONDISSEMENTS\": {\"BELE\": {\"C0MMUNES_d_ARRDT\": {\"NaN\": {\"COMM_RURALES\": {\"Bélé\": {}, \"Sinthiou Fissa\": {}}}}}, \"KENIEBA\": {\"C0MMUNES_d_ARRDT\": {\"NaN\": {\"COMM_RURALES\": {\"Toumboura Sadatou\": {}, \"Madina Foulbé\": {}}}}}, \"MOUDERY\": {\"C0MMUNES_d_ARRDT\": {\"NaN\": {\"COMM_RURALES\": {\"Moudery\": {}, \"Ballou\": {}, \"Gabou\": {}}}}}, \"BOYNGUEL BAMBA\": {\"C0MMUNES_d_ARRDT\": {\"NaN\": {\"COMM_RURALES\": {\"Boynguel Bamba\": {}, \"Sinthiou Mamadou Boubou\": {}, \"Koussan\": {}, \"Dougué\": {}}}}}}}}}, \"GOUDIRY\": {\"COMMUNES\": {\"Goudiry Kothiary\": {\"ARRONDISSEMENTS\": {\"DIANKE MAKHA\": {\"C0MMUNES_d_ARRDT\": {\"NaN\": {\"COMM_RURALES\": {\"Dianké Makha\": {}, \"Boutoucoufara\": {}, \"Bani Israel\": {}, \"Komoti\": {}}}}}, \"KOULOR\": {\"C0MMUNES_d_ARRDT\": {\"NaN\": {\"COMM_RURALES\": {\"Sinthiou Bocar Aly\": {}, \"Koulor\": {}}}}}, \"BALA\": {\"C0MMUNES_d_ARRDT\": {\"NaN\": {\"COMM_RURALES\": {\"Bala\": {}, \"Koar\": {}, \"Goumbayel\": {}}}}}}}}}, \"KOUPENTOUM\": {\"COMMUNES\": {\"Koumpentoum\": {\"ARRONDISSEMENTS\": {\"BAMBA THIALENE\": {\"C0MMUNES_d_ARRDT\": {\"NaN\": {\"COMM_RURALES\": {\"Ndame\": {}, \"Kahène\": {}, \"Bamba Thialène\": {}}}}}, \"KOUTHIABA WOLOF\": {\"C0MMUNES_d_ARRDT\": {\"NaN\": {\"COMM_RURALES\": {\"Payar\": {}, \"Kouthiaba Wolof\": {}, \"Malème Niani\": {}}}}}, \"MAKACOLIBANTANG\": {\"C0MMUNES_d_ARRDT\": {\"NaN\": {\"COMM_RURALES\": {\"Niani Toucouleur\": {}, \"Makacolibantang\": {}, \"Ndoga Babacar\": {}}}}}}}}}, \"TAMBA\": {\"COMMUNES\": {\"Tambacounda\": {\"ARRONDISSEMENTS\": {\"MISSIRAH\": {\"C0MMUNES_d_ARRDT\": {\"NaN\": {\"COMM_RURALES\": {\"Dialacoto Missirah\": {}, \"Néttéboulou\": {}}}}}, \"KOUSSANAR \": {\"C0MMUNES_d_ARRDT\": {\"NaN\": {\"COMM_RURALES\": {\"Sinthiou Malème\": {}, \"Koussanar\": {}}}}}}}}}}}, \"THIES\": {\"CODE_REGION\": \"SN-TH\", \"DEPARTEMENTS\": {\"MBOUR\": {\"COMMUNES\": {\"Joal – Fadhiouth Diass Nguekhokh Thiadiaye Saly Portudal Ngaparou Somone Popenguine\": {\"ARRONDISSEMENTS\": {\"FISSEL\": {\"C0MMUNES_d_ARRDT\": {\"NaN\": {\"COMM_RURALES\": {\"Fissel\": {}, \"Ndiaganiao\": {}}}}}, \"SESSENE\": {\"C0MMUNES_d_ARRDT\": {\"NaN\": {\"COMM_RURALES\": {\"Sessene\": {}, \"Sandiara\": {}, \"Nguéniène\": {}}}}}, \"SINDIA\": {\"C0MMUNES_d_ARRDT\": {\"NaN\": {\"COMM_RURALES\": {\"Sindia Mbour Malicounda\": {}}}}}, \"THIENABA\": {\"C0MMUNES_d_ARRDT\": {\"NaN\": {\"COMM_RURALES\": {\"Thiénaba\": {}, \"Ngoudiane\": {}, \"Ndiéyène Sirakh\": {}, \"Touba Toul\": {}}}}}}}}}, \"THIES\": {\"COMMUNES\": {\"Thies Kayar Khombole Pout\": {\"ARRONDISSEMENTS\": {\"KEUR MOUSSA\": {\"C0MMUNES_d_ARRDT\": {\"NaN\": {\"COMM_RURALES\": {\"Keur Moussa Diender\": {}, \"Fandène\": {}}}}}, \"NOTTO\": {\"C0MMUNES_d_ARRDT\": {\"NaN\": {\"COMM_RURALES\": {\"Notto\": {}, \"Tassète\": {}}}}}, \"MEOUANE\": {\"C0MMUNES_d_ARRDT\": {\"NaN\": {\"COMM_RURALES\": {\"Méouane\": {}, \"Darou Khoudoss\": {}, \"Taïba Ndiaye\": {}}}}}}}}}, \"TIVAOUANE\": {\"COMMUNES\": {\"Tivaouane Mboro Mékhé\": {\"ARRONDISSEMENTS\": {\"MERINA DAKHAR\": {\"C0MMUNES_d_ARRDT\": {\"NaN\": {\"COMM_RURALES\": {\"Mérina Dakhar\": {}, \"Koul\": {}, \"Pékèsse\": {}}}}}, \"NIAKHENE\": {\"C0MMUNES_d_ARRDT\": {\"NaN\": {\"COMM_RURALES\": {\"Niakhène\": {}, \"Mbayène\": {}, \"Thilmakha\": {}, \"Ngandiouf\": {}}}}}, \"PAMBAL\": {\"C0MMUNES_d_ARRDT\": {\"NaN\": {\"COMM_RURALES\": {\"Notto Gouye Diama\": {}, \"Mont Rolland\": {}, \"Pire Goureye\": {}, \"Chérif Lo\": {}}}}}}}}}}}, \"ZIGUINCHOR\": {\"CODE_REGION\": \"SN-ZG\", \"DEPARTEMENTS\": {\"ZIGUINCHOR\": {\"COMMUNES\": {\"Ziguinchor\": {\"ARRONDISSEMENTS\": {\"NIAGUIS\": {\"C0MMUNES_d_ARRDT\": {\"NaN\": {\"COMM_RURALES\": {\"Niaguis\": {}, \"Adéane\": {}, \"Boutoupa Camaracounda\": {}}}}}, \"NIASSIA\": {\"C0MMUNES_d_ARRDT\": {\"NaN\": {\"COMM_RURALES\": {\"Niassia\": {}, \"Enampore\": {}}}}}}}}}, \"OUSSOUYE\": {\"COMMUNES\": {\"Oussouye\": {\"ARRONDISSEMENTS\": {\"CABROUSSE\": {\"C0MMUNES_d_ARRDT\": {\"NaN\": {\"COMM_RURALES\": {\"Diembéring\": {}, \"Santhiaba Manjack\": {}}}}}, \"LOUDIA OUOLOF\": {\"C0MMUNES_d_ARRDT\": {\"NaN\": {\"COMM_RURALES\": {\"Oukout\": {}, \"Mlomp\": {}}}}}, \"KATABA 1\": {\"C0MMUNES_d_ARRDT\": {\"NaN\": {\"COMM_RURALES\": {\"Kataba 1\": {}}}}}, \"KATABA 2\": {\"C0MMUNES_d_ARRDT\": {\"NaN\": {\"COMM_RURALES\": {\"Djinaky\": {}}}}}, \"KATABA 3\": {\"C0MMUNES_d_ARRDT\": {\"NaN\": {\"COMM_RURALES\": {\"Kafontine\": {}}}}}}}}}, \"BIGNONA\": {\"COMMUNES\": {\"Bignona Thionck-Essyl Diouloulou\": {\"ARRONDISSEMENTS\": {\"TENGHORI\": {\"C0MMUNES_d_ARRDT\": {\"NaN\": {\"COMM_RURALES\": {\"Niamone Tenghori\": {}, \"Ouonck\": {}, \"Coubalan\": {}}}}}, \"TENDOUCK\": {\"C0MMUNES_d_ARRDT\": {\"NaN\": {\"COMM_RURALES\": {\"Balinghore\": {}, \"Diégoune\": {}, \"Kartiack\": {}, \"Mangagoulack\": {}, \"Mlom\": {}}}}}, \"SINDIAN\": {\"C0MMUNES_d_ARRDT\": {\"NaN\": {\"COMM_RURALES\": {\"Djibidione\": {}, \"Oulampane\": {}, \"Sindian\": {}, \"Suelle\": {}}}}}}}}}}}}"
     ]
    }
   ],
   "source": [
    "!cat data.json"
   ]
  },
  {
   "cell_type": "code",
   "execution_count": 143,
   "id": "d17d7d34",
   "metadata": {},
   "outputs": [],
   "source": [
    "def nested_df(data_dict):\n",
    "    for key, value in data_dict.items():\n",
    "        if isinstance(value, dict):\n",
    "            nested_df(value)\n",
    "        else:\n",
    "            value = pd.DataFrame(value)\n",
    "    "
   ]
  },
  {
   "cell_type": "code",
   "execution_count": 165,
   "id": "ecad9042",
   "metadata": {},
   "outputs": [],
   "source": [
    "def nested_df(data_dict):\n",
    "    for key, value in data_dict.items():\n",
    "        if isinstance(value, dict):\n",
    "            # Recursively convert nested dictionaries\n",
    "            data_dict[key] = nested_df(value)\n",
    "        elif not isinstance(value, pd.DataFrame):\n",
    "            # Convert values to DataFrames if they are not already\n",
    "            data_dict[key] = pd.DataFrame(value)\n",
    "    return data_dict\n"
   ]
  },
  {
   "cell_type": "code",
   "execution_count": 166,
   "id": "f817665b",
   "metadata": {},
   "outputs": [
    {
     "ename": "ValueError",
     "evalue": "DataFrame constructor not properly called!",
     "output_type": "error",
     "traceback": [
      "\u001b[0;31m---------------------------------------------------------------------------\u001b[0m",
      "\u001b[0;31mValueError\u001b[0m                                Traceback (most recent call last)",
      "Cell \u001b[0;32mIn[166], line 1\u001b[0m\n\u001b[0;32m----> 1\u001b[0m nested_dfs \u001b[38;5;241m=\u001b[39m \u001b[43mnested_df\u001b[49m\u001b[43m(\u001b[49m\u001b[43mnested_data\u001b[49m\u001b[43m)\u001b[49m\n",
      "Cell \u001b[0;32mIn[165], line 5\u001b[0m, in \u001b[0;36mnested_df\u001b[0;34m(data_dict)\u001b[0m\n\u001b[1;32m      2\u001b[0m \u001b[38;5;28;01mfor\u001b[39;00m key, value \u001b[38;5;129;01min\u001b[39;00m data_dict\u001b[38;5;241m.\u001b[39mitems():\n\u001b[1;32m      3\u001b[0m     \u001b[38;5;28;01mif\u001b[39;00m \u001b[38;5;28misinstance\u001b[39m(value, \u001b[38;5;28mdict\u001b[39m):\n\u001b[1;32m      4\u001b[0m         \u001b[38;5;66;03m# Recursively convert nested dictionaries\u001b[39;00m\n\u001b[0;32m----> 5\u001b[0m         data_dict[key] \u001b[38;5;241m=\u001b[39m \u001b[43mnested_df\u001b[49m\u001b[43m(\u001b[49m\u001b[43mvalue\u001b[49m\u001b[43m)\u001b[49m\n\u001b[1;32m      6\u001b[0m     \u001b[38;5;28;01melif\u001b[39;00m \u001b[38;5;129;01mnot\u001b[39;00m \u001b[38;5;28misinstance\u001b[39m(value, pd\u001b[38;5;241m.\u001b[39mDataFrame):\n\u001b[1;32m      7\u001b[0m         \u001b[38;5;66;03m# Convert values to DataFrames if they are not already\u001b[39;00m\n\u001b[1;32m      8\u001b[0m         data_dict[key] \u001b[38;5;241m=\u001b[39m pd\u001b[38;5;241m.\u001b[39mDataFrame(value)\n",
      "Cell \u001b[0;32mIn[165], line 8\u001b[0m, in \u001b[0;36mnested_df\u001b[0;34m(data_dict)\u001b[0m\n\u001b[1;32m      5\u001b[0m         data_dict[key] \u001b[38;5;241m=\u001b[39m nested_df(value)\n\u001b[1;32m      6\u001b[0m     \u001b[38;5;28;01melif\u001b[39;00m \u001b[38;5;129;01mnot\u001b[39;00m \u001b[38;5;28misinstance\u001b[39m(value, pd\u001b[38;5;241m.\u001b[39mDataFrame):\n\u001b[1;32m      7\u001b[0m         \u001b[38;5;66;03m# Convert values to DataFrames if they are not already\u001b[39;00m\n\u001b[0;32m----> 8\u001b[0m         data_dict[key] \u001b[38;5;241m=\u001b[39m \u001b[43mpd\u001b[49m\u001b[38;5;241;43m.\u001b[39;49m\u001b[43mDataFrame\u001b[49m\u001b[43m(\u001b[49m\u001b[43mvalue\u001b[49m\u001b[43m)\u001b[49m\n\u001b[1;32m      9\u001b[0m \u001b[38;5;28;01mreturn\u001b[39;00m data_dict\n",
      "File \u001b[0;32m~/.local/lib/python3.10/site-packages/pandas/core/frame.py:817\u001b[0m, in \u001b[0;36mDataFrame.__init__\u001b[0;34m(self, data, index, columns, dtype, copy)\u001b[0m\n\u001b[1;32m    814\u001b[0m \u001b[38;5;66;03m# For data is scalar\u001b[39;00m\n\u001b[1;32m    815\u001b[0m \u001b[38;5;28;01melse\u001b[39;00m:\n\u001b[1;32m    816\u001b[0m     \u001b[38;5;28;01mif\u001b[39;00m index \u001b[38;5;129;01mis\u001b[39;00m \u001b[38;5;28;01mNone\u001b[39;00m \u001b[38;5;129;01mor\u001b[39;00m columns \u001b[38;5;129;01mis\u001b[39;00m \u001b[38;5;28;01mNone\u001b[39;00m:\n\u001b[0;32m--> 817\u001b[0m         \u001b[38;5;28;01mraise\u001b[39;00m \u001b[38;5;167;01mValueError\u001b[39;00m(\u001b[38;5;124m\"\u001b[39m\u001b[38;5;124mDataFrame constructor not properly called!\u001b[39m\u001b[38;5;124m\"\u001b[39m)\n\u001b[1;32m    819\u001b[0m     index \u001b[38;5;241m=\u001b[39m ensure_index(index)\n\u001b[1;32m    820\u001b[0m     columns \u001b[38;5;241m=\u001b[39m ensure_index(columns)\n",
      "\u001b[0;31mValueError\u001b[0m: DataFrame constructor not properly called!"
     ]
    }
   ],
   "source": [
    "nested_dfs = nested_df(nested_data)"
   ]
  },
  {
   "cell_type": "code",
   "execution_count": 170,
   "id": "775a82fd",
   "metadata": {},
   "outputs": [],
   "source": [
    "nested_dfs = pd.DataFrame(nested_data)"
   ]
  },
  {
   "cell_type": "code",
   "execution_count": 175,
   "id": "91847d62",
   "metadata": {},
   "outputs": [],
   "source": [
    "for index, column in nested_dfs.items():\n",
    "    column.DEPARTEMENTS = pd.DataFrame(column.DEPARTEMENTS)"
   ]
  },
  {
   "cell_type": "code",
   "execution_count": 224,
   "id": "6558844e",
   "metadata": {},
   "outputs": [],
   "source": [
    "nested_dfs.to_pickle('datadump.pkl')"
   ]
  },
  {
   "cell_type": "code",
   "execution_count": 235,
   "id": "0c1c5422",
   "metadata": {},
   "outputs": [
    {
     "name": "stdout",
     "output_type": "stream",
     "text": [
      "8,0K\tdata_1.json\r\n",
      "4,0K\tdata_1.pkl\r\n",
      "20K\tdatadump.pkl\r\n",
      "24K\tdata.json\r\n",
      "76K\tdata_senegal_geo.ipynb\r\n",
      "28K\tdecoupage-administatif.csv\r\n"
     ]
    }
   ],
   "source": [
    "!du -h *"
   ]
  },
  {
   "cell_type": "code",
   "execution_count": 247,
   "id": "3c554f2c",
   "metadata": {},
   "outputs": [
    {
     "data": {
      "text/plain": [
       "{'C0MMUNES_d_ARRDT': {nan: {'COMM_RURALES': {'Ndiagne': {},\n",
       "    'Thiamène': {},\n",
       "    'Pété Ouarack': {}}}}}"
      ]
     },
     "execution_count": 247,
     "metadata": {},
     "output_type": "execute_result"
    }
   ],
   "source": [
    "nested_dfs.LOUGA.DEPARTEMENTS.LOUGA.COMMUNES['Louga']['ARRONDISSEMENTS']['COKI Coki']#.keys()"
   ]
  },
  {
   "cell_type": "code",
   "execution_count": 250,
   "id": "b80320fa",
   "metadata": {},
   "outputs": [
    {
     "data": {
      "text/plain": [
       "DAKAR                                                        ...\n",
       "DIOURBEL                                                     ...\n",
       "FATICK                                                     FA...\n",
       "KAFFRINE                                                     ...\n",
       "KAOLACK                                                      ...\n",
       "KEDOUGOU                                                     ...\n",
       "KOLDA                                                        ...\n",
       "LOUGA                                                        ...\n",
       "MATAM                                                        ...\n",
       "SAINT LOUIS                                                  ...\n",
       "SEDHIOU                                                      ...\n",
       "TAMBACOUNDA                                                  ...\n",
       "THIES                                                        ...\n",
       "ZIGUINCHOR                                                   ...\n",
       "Name: DEPARTEMENTS, dtype: object"
      ]
     },
     "execution_count": 250,
     "metadata": {},
     "output_type": "execute_result"
    }
   ],
   "source": [
    "nested_dfs.T.DEPARTEMENTS"
   ]
  },
  {
   "cell_type": "code",
   "execution_count": 1,
   "id": "c7db07d6",
   "metadata": {},
   "outputs": [],
   "source": [
    "import requests\n",
    "import pandas as pd\n",
    "\n",
    "# Step 2: Send an HTTP GET request to the web page\n",
    "url = 'https://www.worldometers.info/world-population/senegal-population/'  # Replace with the URL of the web page containing the table\n",
    "response = requests.get(url)\n",
    "\n",
    "# Step 3: Check if the request was successful and retrieve the page content\n",
    "if response.status_code == 200:\n",
    "    page_content = response.content\n",
    "else:\n",
    "    print(\"Failed to retrieve the web page. Status code:\", response.status_code)\n",
    "    exit()  # You can handle the error as needed\n",
    "\n",
    "# Step 4: Parse the HTML content to extract the table\n",
    "tables = pd.read_html(page_content)\n",
    "# You may need to inspect the list of tables to identify the one you want to use\n",
    "table_df = tables[0]  # Assuming the first table on the page is the one you want\n",
    "\n",
    "# Now you can work with the table_df DataFrame as needed.\n"
   ]
  },
  {
   "cell_type": "code",
   "execution_count": 87,
   "id": "9fb98eb6",
   "metadata": {},
   "outputs": [],
   "source": [
    "tables[3].to_csv('demographie/demo_grandes_villes_senegal.csv')"
   ]
  },
  {
   "cell_type": "code",
   "execution_count": 60,
   "id": "93ede17c",
   "metadata": {},
   "outputs": [
    {
     "name": "stdout",
     "output_type": "stream",
     "text": [
      "Downloaded 5 SVG images.\n"
     ]
    }
   ],
   "source": [
    "import time\n",
    "from selenium import webdriver\n",
    "from selenium.webdriver.common.by import By\n",
    "from selenium.webdriver.support.ui import WebDriverWait\n",
    "from selenium.webdriver.support import expected_conditions as EC\n",
    "\n",
    "# Define the URL of the web page containing SVG images\n",
    "url = 'https://www.worldometers.info/demographics/senegal-demographics/'\n",
    "\n",
    "# Create a new instance of the Chrome driver\n",
    "driver = webdriver.Firefox()\n",
    "\n",
    "# Navigate to the web page\n",
    "driver.get(url)\n",
    "\n",
    "# Wait for a specified maximum of 10 seconds for the SVG elements to appear\n",
    "wait = WebDriverWait(driver, 2)\n",
    "svg_elements = wait.until(EC.presence_of_all_elements_located((By.TAG_NAME, 'svg')))\n",
    "\n",
    "# Loop through the SVG elements and save them as separate files\n",
    "for index, svg in enumerate(svg_elements):\n",
    "    svg_content = svg.get_attribute('outerHTML')  # Get the outer HTML of the SVG element\n",
    "    with open(f'graphics/svg_{index}.svg', 'w') as svg_file:\n",
    "        svg_file.write(svg_content)\n",
    "\n",
    "print(f\"Downloaded {len(svg_elements)} SVG images.\")\n",
    "\n",
    "# Close the browser\n",
    "driver.quit()\n"
   ]
  },
  {
   "cell_type": "code",
   "execution_count": 54,
   "id": "90d1764e",
   "metadata": {},
   "outputs": [],
   "source": [
    "data = pd.read_pickle('datadump.pkl').to_dict()"
   ]
  },
  {
   "cell_type": "code",
   "execution_count": 66,
   "id": "b9fe9e49",
   "metadata": {},
   "outputs": [],
   "source": [
    "data['SAINT LOUIS']['DEPARTEMENTS'] = data['SAINT LOUIS']['DEPARTEMENTS'].rename(columns = {'PODOR ' : 'PODOR'})#['PODOR ']"
   ]
  },
  {
   "cell_type": "code",
   "execution_count": 74,
   "id": "f9b83b38",
   "metadata": {},
   "outputs": [
    {
     "data": {
      "text/plain": [
       "{'C0MMUNES_d_ARRDT': {nan: {'COMM_RURALES': {'Méry': {},\n",
       "    'Aéré Lao': {},\n",
       "    'Madina Diathbé': {}}}}}"
      ]
     },
     "execution_count": 74,
     "metadata": {},
     "output_type": "execute_result"
    }
   ],
   "source": [
    "data['SAINT LOUIS']['DEPARTEMENTS']['PODOR']['COMMUNES']['Podor Golléré Ndioum Niandane Mbouma']['ARRONDISSEMENTS']['CAS CAS']"
   ]
  }
 ],
 "metadata": {
  "kernelspec": {
   "display_name": "Python 3 (ipykernel)",
   "language": "python",
   "name": "python3"
  },
  "language_info": {
   "codemirror_mode": {
    "name": "ipython",
    "version": 3
   },
   "file_extension": ".py",
   "mimetype": "text/x-python",
   "name": "python",
   "nbconvert_exporter": "python",
   "pygments_lexer": "ipython3",
   "version": "3.10.4"
  }
 },
 "nbformat": 4,
 "nbformat_minor": 5
}
